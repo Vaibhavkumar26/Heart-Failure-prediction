{
 "cells": [
  {
   "cell_type": "code",
   "execution_count": 1,
   "id": "9ca850c8",
   "metadata": {
    "_cell_guid": "b1076dfc-b9ad-4769-8c92-a6c4dae69d19",
    "_uuid": "8f2839f25d086af736a60e9eeb907d3b93b6e0e5",
    "execution": {
     "iopub.execute_input": "2024-12-17T09:14:54.516210Z",
     "iopub.status.busy": "2024-12-17T09:14:54.515780Z",
     "iopub.status.idle": "2024-12-17T09:14:55.679593Z",
     "shell.execute_reply": "2024-12-17T09:14:55.678322Z"
    },
    "papermill": {
     "duration": 1.177529,
     "end_time": "2024-12-17T09:14:55.682176",
     "exception": false,
     "start_time": "2024-12-17T09:14:54.504647",
     "status": "completed"
    },
    "tags": []
   },
   "outputs": [
    {
     "name": "stdout",
     "output_type": "stream",
     "text": [
      "/kaggle/input/heart-failure-prediction/heart.csv\n"
     ]
    }
   ],
   "source": [
    "# This Python 3 environment comes with many helpful analytics libraries installed\n",
    "# It is defined by the kaggle/python Docker image: https://github.com/kaggle/docker-python\n",
    "# For example, here's several helpful packages to load\n",
    "\n",
    "import numpy as np # linear algebra\n",
    "import pandas as pd # data processing, CSV file I/O (e.g. pd.read_csv)\n",
    "\n",
    "# Input data files are available in the read-only \"../input/\" directory\n",
    "# For example, running this (by clicking run or pressing Shift+Enter) will list all files under the input directory\n",
    "\n",
    "import os\n",
    "for dirname, _, filenames in os.walk('/kaggle/input'):\n",
    "    for filename in filenames:\n",
    "        print(os.path.join(dirname, filename))\n",
    "\n",
    "# You can write up to 20GB to the current directory (/kaggle/working/) that gets preserved as output when you create a version using \"Save & Run All\" \n",
    "# You can also write temporary files to /kaggle/temp/, but they won't be saved outside of the current session"
   ]
  },
  {
   "cell_type": "code",
   "execution_count": 2,
   "id": "69a83e20",
   "metadata": {
    "execution": {
     "iopub.execute_input": "2024-12-17T09:14:55.701249Z",
     "iopub.status.busy": "2024-12-17T09:14:55.700761Z",
     "iopub.status.idle": "2024-12-17T09:14:55.750337Z",
     "shell.execute_reply": "2024-12-17T09:14:55.749140Z"
    },
    "papermill": {
     "duration": 0.062454,
     "end_time": "2024-12-17T09:14:55.752674",
     "exception": false,
     "start_time": "2024-12-17T09:14:55.690220",
     "status": "completed"
    },
    "tags": []
   },
   "outputs": [
    {
     "data": {
      "text/html": [
       "<div>\n",
       "<style scoped>\n",
       "    .dataframe tbody tr th:only-of-type {\n",
       "        vertical-align: middle;\n",
       "    }\n",
       "\n",
       "    .dataframe tbody tr th {\n",
       "        vertical-align: top;\n",
       "    }\n",
       "\n",
       "    .dataframe thead th {\n",
       "        text-align: right;\n",
       "    }\n",
       "</style>\n",
       "<table border=\"1\" class=\"dataframe\">\n",
       "  <thead>\n",
       "    <tr style=\"text-align: right;\">\n",
       "      <th></th>\n",
       "      <th>Age</th>\n",
       "      <th>Sex</th>\n",
       "      <th>ChestPainType</th>\n",
       "      <th>RestingBP</th>\n",
       "      <th>Cholesterol</th>\n",
       "      <th>FastingBS</th>\n",
       "      <th>RestingECG</th>\n",
       "      <th>MaxHR</th>\n",
       "      <th>ExerciseAngina</th>\n",
       "      <th>Oldpeak</th>\n",
       "      <th>ST_Slope</th>\n",
       "      <th>HeartDisease</th>\n",
       "    </tr>\n",
       "  </thead>\n",
       "  <tbody>\n",
       "    <tr>\n",
       "      <th>0</th>\n",
       "      <td>40</td>\n",
       "      <td>M</td>\n",
       "      <td>ATA</td>\n",
       "      <td>140</td>\n",
       "      <td>289</td>\n",
       "      <td>0</td>\n",
       "      <td>Normal</td>\n",
       "      <td>172</td>\n",
       "      <td>N</td>\n",
       "      <td>0.0</td>\n",
       "      <td>Up</td>\n",
       "      <td>0</td>\n",
       "    </tr>\n",
       "    <tr>\n",
       "      <th>1</th>\n",
       "      <td>49</td>\n",
       "      <td>F</td>\n",
       "      <td>NAP</td>\n",
       "      <td>160</td>\n",
       "      <td>180</td>\n",
       "      <td>0</td>\n",
       "      <td>Normal</td>\n",
       "      <td>156</td>\n",
       "      <td>N</td>\n",
       "      <td>1.0</td>\n",
       "      <td>Flat</td>\n",
       "      <td>1</td>\n",
       "    </tr>\n",
       "    <tr>\n",
       "      <th>2</th>\n",
       "      <td>37</td>\n",
       "      <td>M</td>\n",
       "      <td>ATA</td>\n",
       "      <td>130</td>\n",
       "      <td>283</td>\n",
       "      <td>0</td>\n",
       "      <td>ST</td>\n",
       "      <td>98</td>\n",
       "      <td>N</td>\n",
       "      <td>0.0</td>\n",
       "      <td>Up</td>\n",
       "      <td>0</td>\n",
       "    </tr>\n",
       "    <tr>\n",
       "      <th>3</th>\n",
       "      <td>48</td>\n",
       "      <td>F</td>\n",
       "      <td>ASY</td>\n",
       "      <td>138</td>\n",
       "      <td>214</td>\n",
       "      <td>0</td>\n",
       "      <td>Normal</td>\n",
       "      <td>108</td>\n",
       "      <td>Y</td>\n",
       "      <td>1.5</td>\n",
       "      <td>Flat</td>\n",
       "      <td>1</td>\n",
       "    </tr>\n",
       "    <tr>\n",
       "      <th>4</th>\n",
       "      <td>54</td>\n",
       "      <td>M</td>\n",
       "      <td>NAP</td>\n",
       "      <td>150</td>\n",
       "      <td>195</td>\n",
       "      <td>0</td>\n",
       "      <td>Normal</td>\n",
       "      <td>122</td>\n",
       "      <td>N</td>\n",
       "      <td>0.0</td>\n",
       "      <td>Up</td>\n",
       "      <td>0</td>\n",
       "    </tr>\n",
       "  </tbody>\n",
       "</table>\n",
       "</div>"
      ],
      "text/plain": [
       "   Age Sex ChestPainType  RestingBP  Cholesterol  FastingBS RestingECG  MaxHR  \\\n",
       "0   40   M           ATA        140          289          0     Normal    172   \n",
       "1   49   F           NAP        160          180          0     Normal    156   \n",
       "2   37   M           ATA        130          283          0         ST     98   \n",
       "3   48   F           ASY        138          214          0     Normal    108   \n",
       "4   54   M           NAP        150          195          0     Normal    122   \n",
       "\n",
       "  ExerciseAngina  Oldpeak ST_Slope  HeartDisease  \n",
       "0              N      0.0       Up             0  \n",
       "1              N      1.0     Flat             1  \n",
       "2              N      0.0       Up             0  \n",
       "3              Y      1.5     Flat             1  \n",
       "4              N      0.0       Up             0  "
      ]
     },
     "execution_count": 2,
     "metadata": {},
     "output_type": "execute_result"
    }
   ],
   "source": [
    "df=pd.read_csv('/kaggle/input/heart-failure-prediction/heart.csv')\n",
    "df.head()"
   ]
  },
  {
   "cell_type": "code",
   "execution_count": 3,
   "id": "35061903",
   "metadata": {
    "execution": {
     "iopub.execute_input": "2024-12-17T09:14:55.770856Z",
     "iopub.status.busy": "2024-12-17T09:14:55.770425Z",
     "iopub.status.idle": "2024-12-17T09:14:55.809809Z",
     "shell.execute_reply": "2024-12-17T09:14:55.808104Z"
    },
    "papermill": {
     "duration": 0.051867,
     "end_time": "2024-12-17T09:14:55.812810",
     "exception": false,
     "start_time": "2024-12-17T09:14:55.760943",
     "status": "completed"
    },
    "tags": []
   },
   "outputs": [
    {
     "name": "stdout",
     "output_type": "stream",
     "text": [
      "<class 'pandas.core.frame.DataFrame'>\n",
      "RangeIndex: 918 entries, 0 to 917\n",
      "Data columns (total 13 columns):\n",
      " #   Column          Non-Null Count  Dtype  \n",
      "---  ------          --------------  -----  \n",
      " 0   index           918 non-null    int64  \n",
      " 1   Age             918 non-null    int64  \n",
      " 2   Sex             918 non-null    object \n",
      " 3   ChestPainType   918 non-null    object \n",
      " 4   RestingBP       918 non-null    int64  \n",
      " 5   Cholesterol     918 non-null    int64  \n",
      " 6   FastingBS       918 non-null    int64  \n",
      " 7   RestingECG      918 non-null    object \n",
      " 8   MaxHR           918 non-null    int64  \n",
      " 9   ExerciseAngina  918 non-null    object \n",
      " 10  Oldpeak         918 non-null    float64\n",
      " 11  ST_Slope        918 non-null    object \n",
      " 12  HeartDisease    918 non-null    int64  \n",
      "dtypes: float64(1), int64(7), object(5)\n",
      "memory usage: 93.4+ KB\n"
     ]
    }
   ],
   "source": [
    "df.isnull().sum()\n",
    "df=df.reset_index()\n",
    "df.info()"
   ]
  },
  {
   "cell_type": "code",
   "execution_count": 4,
   "id": "c066060d",
   "metadata": {
    "execution": {
     "iopub.execute_input": "2024-12-17T09:14:55.831112Z",
     "iopub.status.busy": "2024-12-17T09:14:55.830726Z",
     "iopub.status.idle": "2024-12-17T09:14:55.846352Z",
     "shell.execute_reply": "2024-12-17T09:14:55.845147Z"
    },
    "papermill": {
     "duration": 0.027311,
     "end_time": "2024-12-17T09:14:55.848594",
     "exception": false,
     "start_time": "2024-12-17T09:14:55.821283",
     "status": "completed"
    },
    "tags": []
   },
   "outputs": [
    {
     "data": {
      "text/html": [
       "<div>\n",
       "<style scoped>\n",
       "    .dataframe tbody tr th:only-of-type {\n",
       "        vertical-align: middle;\n",
       "    }\n",
       "\n",
       "    .dataframe tbody tr th {\n",
       "        vertical-align: top;\n",
       "    }\n",
       "\n",
       "    .dataframe thead th {\n",
       "        text-align: right;\n",
       "    }\n",
       "</style>\n",
       "<table border=\"1\" class=\"dataframe\">\n",
       "  <thead>\n",
       "    <tr style=\"text-align: right;\">\n",
       "      <th></th>\n",
       "      <th>index</th>\n",
       "      <th>Age</th>\n",
       "      <th>Sex</th>\n",
       "      <th>ChestPainType</th>\n",
       "      <th>RestingBP</th>\n",
       "      <th>Cholesterol</th>\n",
       "      <th>FastingBS</th>\n",
       "      <th>RestingECG</th>\n",
       "      <th>MaxHR</th>\n",
       "      <th>ExerciseAngina</th>\n",
       "      <th>Oldpeak</th>\n",
       "      <th>ST_Slope</th>\n",
       "      <th>HeartDisease</th>\n",
       "    </tr>\n",
       "  </thead>\n",
       "  <tbody>\n",
       "    <tr>\n",
       "      <th>0</th>\n",
       "      <td>0</td>\n",
       "      <td>40</td>\n",
       "      <td>M</td>\n",
       "      <td>ATA</td>\n",
       "      <td>140</td>\n",
       "      <td>289</td>\n",
       "      <td>0</td>\n",
       "      <td>Normal</td>\n",
       "      <td>172</td>\n",
       "      <td>N</td>\n",
       "      <td>0.0</td>\n",
       "      <td>Up</td>\n",
       "      <td>0</td>\n",
       "    </tr>\n",
       "    <tr>\n",
       "      <th>1</th>\n",
       "      <td>1</td>\n",
       "      <td>49</td>\n",
       "      <td>F</td>\n",
       "      <td>NAP</td>\n",
       "      <td>160</td>\n",
       "      <td>180</td>\n",
       "      <td>0</td>\n",
       "      <td>Normal</td>\n",
       "      <td>156</td>\n",
       "      <td>N</td>\n",
       "      <td>1.0</td>\n",
       "      <td>Flat</td>\n",
       "      <td>1</td>\n",
       "    </tr>\n",
       "    <tr>\n",
       "      <th>2</th>\n",
       "      <td>2</td>\n",
       "      <td>37</td>\n",
       "      <td>M</td>\n",
       "      <td>ATA</td>\n",
       "      <td>130</td>\n",
       "      <td>283</td>\n",
       "      <td>0</td>\n",
       "      <td>ST</td>\n",
       "      <td>98</td>\n",
       "      <td>N</td>\n",
       "      <td>0.0</td>\n",
       "      <td>Up</td>\n",
       "      <td>0</td>\n",
       "    </tr>\n",
       "    <tr>\n",
       "      <th>3</th>\n",
       "      <td>3</td>\n",
       "      <td>48</td>\n",
       "      <td>F</td>\n",
       "      <td>ASY</td>\n",
       "      <td>138</td>\n",
       "      <td>214</td>\n",
       "      <td>0</td>\n",
       "      <td>Normal</td>\n",
       "      <td>108</td>\n",
       "      <td>Y</td>\n",
       "      <td>1.5</td>\n",
       "      <td>Flat</td>\n",
       "      <td>1</td>\n",
       "    </tr>\n",
       "    <tr>\n",
       "      <th>4</th>\n",
       "      <td>4</td>\n",
       "      <td>54</td>\n",
       "      <td>M</td>\n",
       "      <td>NAP</td>\n",
       "      <td>150</td>\n",
       "      <td>195</td>\n",
       "      <td>0</td>\n",
       "      <td>Normal</td>\n",
       "      <td>122</td>\n",
       "      <td>N</td>\n",
       "      <td>0.0</td>\n",
       "      <td>Up</td>\n",
       "      <td>0</td>\n",
       "    </tr>\n",
       "  </tbody>\n",
       "</table>\n",
       "</div>"
      ],
      "text/plain": [
       "   index  Age Sex ChestPainType  RestingBP  Cholesterol  FastingBS RestingECG  \\\n",
       "0      0   40   M           ATA        140          289          0     Normal   \n",
       "1      1   49   F           NAP        160          180          0     Normal   \n",
       "2      2   37   M           ATA        130          283          0         ST   \n",
       "3      3   48   F           ASY        138          214          0     Normal   \n",
       "4      4   54   M           NAP        150          195          0     Normal   \n",
       "\n",
       "   MaxHR ExerciseAngina  Oldpeak ST_Slope  HeartDisease  \n",
       "0    172              N      0.0       Up             0  \n",
       "1    156              N      1.0     Flat             1  \n",
       "2     98              N      0.0       Up             0  \n",
       "3    108              Y      1.5     Flat             1  \n",
       "4    122              N      0.0       Up             0  "
      ]
     },
     "execution_count": 4,
     "metadata": {},
     "output_type": "execute_result"
    }
   ],
   "source": [
    "df.head()"
   ]
  },
  {
   "cell_type": "code",
   "execution_count": 5,
   "id": "87dca4fe",
   "metadata": {
    "execution": {
     "iopub.execute_input": "2024-12-17T09:14:55.867323Z",
     "iopub.status.busy": "2024-12-17T09:14:55.866892Z",
     "iopub.status.idle": "2024-12-17T09:14:55.878957Z",
     "shell.execute_reply": "2024-12-17T09:14:55.877583Z"
    },
    "papermill": {
     "duration": 0.024269,
     "end_time": "2024-12-17T09:14:55.881368",
     "exception": false,
     "start_time": "2024-12-17T09:14:55.857099",
     "status": "completed"
    },
    "tags": []
   },
   "outputs": [
    {
     "name": "stdout",
     "output_type": "stream",
     "text": [
      "Sex -> Sex\n",
      "M    725\n",
      "F    193\n",
      "Name: count, dtype: int64\n",
      "ChestPainType -> ChestPainType\n",
      "ASY    496\n",
      "NAP    203\n",
      "ATA    173\n",
      "TA      46\n",
      "Name: count, dtype: int64\n",
      "RestingECG -> RestingECG\n",
      "Normal    552\n",
      "LVH       188\n",
      "ST        178\n",
      "Name: count, dtype: int64\n",
      "ExerciseAngina -> ExerciseAngina\n",
      "N    547\n",
      "Y    371\n",
      "Name: count, dtype: int64\n",
      "ST_Slope -> ST_Slope\n",
      "Flat    460\n",
      "Up      395\n",
      "Down     63\n",
      "Name: count, dtype: int64\n"
     ]
    }
   ],
   "source": [
    "categorical_columns=[];\n",
    "for i in df.columns:\n",
    "    if df[i].dtype==object:\n",
    "        categorical_columns.append(i)\n",
    "\n",
    "for  i in categorical_columns:\n",
    "    print(f\"{i}\",\"->\",df[i].value_counts())"
   ]
  },
  {
   "cell_type": "code",
   "execution_count": 6,
   "id": "266c3bfd",
   "metadata": {
    "execution": {
     "iopub.execute_input": "2024-12-17T09:14:55.900997Z",
     "iopub.status.busy": "2024-12-17T09:14:55.900571Z",
     "iopub.status.idle": "2024-12-17T09:14:55.905835Z",
     "shell.execute_reply": "2024-12-17T09:14:55.904589Z"
    },
    "papermill": {
     "duration": 0.017663,
     "end_time": "2024-12-17T09:14:55.908228",
     "exception": false,
     "start_time": "2024-12-17T09:14:55.890565",
     "status": "completed"
    },
    "tags": []
   },
   "outputs": [],
   "source": [
    "numeric_columns=[];\n",
    "for i in df.columns:\n",
    "    if i not in categorical_columns:\n",
    "        numeric_columns.append(i);\n",
    "\n",
    "numeric_columns.remove('Oldpeak')\n",
    "numeric_columns.remove('HeartDisease')\n"
   ]
  },
  {
   "cell_type": "markdown",
   "id": "85598fa0",
   "metadata": {
    "papermill": {
     "duration": 0.008211,
     "end_time": "2024-12-17T09:14:55.925023",
     "exception": false,
     "start_time": "2024-12-17T09:14:55.916812",
     "status": "completed"
    },
    "tags": []
   },
   "source": [
    "### feature selection"
   ]
  },
  {
   "cell_type": "code",
   "execution_count": 7,
   "id": "ab953e1c",
   "metadata": {
    "execution": {
     "iopub.execute_input": "2024-12-17T09:14:55.944368Z",
     "iopub.status.busy": "2024-12-17T09:14:55.943427Z",
     "iopub.status.idle": "2024-12-17T09:15:00.559869Z",
     "shell.execute_reply": "2024-12-17T09:15:00.558456Z"
    },
    "papermill": {
     "duration": 4.630678,
     "end_time": "2024-12-17T09:15:00.564238",
     "exception": false,
     "start_time": "2024-12-17T09:14:55.933560",
     "status": "completed"
    },
    "tags": []
   },
   "outputs": [
    {
     "data": {
      "image/png": "[encoded data removed]",
      "text/plain": [
       "<Figure size 2400x2400 with 10 Axes>"
      ]
     },
     "metadata": {},
     "output_type": "display_data"
    }
   ],
   "source": [
    "import matplotlib.pyplot as plt\n",
    "import seaborn as sns\n",
    "import pandas as pd\n",
    "\n",
    "index = 1\n",
    "plt.figure(figsize=(24, 24))  \n",
    "\n",
    "for i in range(len(categorical_columns)):\n",
    "    for j in range(i + 1, len(categorical_columns)):\n",
    "        plt.subplot(4, 4, index)  \n",
    "        sns.heatmap(\n",
    "            pd.crosstab(df[categorical_columns[i]], df[categorical_columns[j]]), \n",
    "            cbar=False, cmap='YlOrRd', annot=True\n",
    "        )\n",
    "        plt.title(f\"{categorical_columns[i]} vs {categorical_columns[j]}\")\n",
    "        plt.xlabel(categorical_columns[j])\n",
    "        plt.ylabel(categorical_columns[i])\n",
    "        \n",
    "        index += 1  \n",
    "        \n",
    "        \n",
    "        \n"
   ]
  },
  {
   "cell_type": "markdown",
   "id": "cb9b6ecc",
   "metadata": {
    "papermill": {
     "duration": 0.010705,
     "end_time": "2024-12-17T09:15:00.586106",
     "exception": false,
     "start_time": "2024-12-17T09:15:00.575401",
     "status": "completed"
    },
    "tags": []
   },
   "source": [
    "### lots of dependices :\n",
    "     \n",
    "     *sex vs chestpain-type have a almost all shades, also if sex is male and ExerciseAngina  Y(Yes)==N(No)+10% but not in women , in sex vs st_slope we have a lot chance of (men with flat)/total men >> (female with flat)/(total female) ...... *\n",
    "\n",
    "\n",
    "FOR SUCH CASES WE CAN USE CHI2_SQUARE_TEST\n",
    "     \n",
    "  "
   ]
  },
  {
   "cell_type": "code",
   "execution_count": 8,
   "id": "f2e9d24f",
   "metadata": {
    "execution": {
     "iopub.execute_input": "2024-12-17T09:15:00.611002Z",
     "iopub.status.busy": "2024-12-17T09:15:00.610435Z",
     "iopub.status.idle": "2024-12-17T09:15:00.688265Z",
     "shell.execute_reply": "2024-12-17T09:15:00.687026Z"
    },
    "papermill": {
     "duration": 0.093427,
     "end_time": "2024-12-17T09:15:00.690980",
     "exception": false,
     "start_time": "2024-12-17T09:15:00.597553",
     "status": "completed"
    },
    "tags": []
   },
   "outputs": [
    {
     "name": "stdout",
     "output_type": "stream",
     "text": [
      "Sex is dependent on ChestPainType with p_val = 4.880336281360552e-08\n",
      "Sex is independent of RestingECG with p_val = 0.08912244139807841\n",
      "Sex is dependent on ExerciseAngina with p_val = 1.2387163558796499e-08\n",
      "Sex is dependent on ST_Slope with p_val = 1.83174739624214e-05\n",
      "ChestPainType is dependent on RestingECG with p_val = 0.003596780905759451\n",
      "ChestPainType is dependent on ExerciseAngina with p_val = 1.2659099121635848e-38\n",
      "ChestPainType is dependent on ST_Slope with p_val = 2.705381063690865e-31\n",
      "RestingECG is dependent on ExerciseAngina with p_val = 0.004941141203261243\n",
      "RestingECG is independent of ST_Slope with p_val = 0.10329552404263315\n",
      "ExerciseAngina is dependent on ST_Slope with p_val = 2.70285624656344e-42\n"
     ]
    }
   ],
   "source": [
    "from scipy.stats import chi2_contingency\n",
    "\n",
    "for i in range(len(categorical_columns)):\n",
    "    for j in range(i+1, len(categorical_columns)):\n",
    "        chi2_val, p_val, _, _ = chi2_contingency(pd.crosstab(df[categorical_columns[i]], df[categorical_columns[j]]))\n",
    "        \n",
    "        if p_val < 0.05:\n",
    "            print(f\"{categorical_columns[i]} is dependent on {categorical_columns[j]} with p_val = {p_val}\")\n",
    "        else:\n",
    "            print(f\"{categorical_columns[i]} is independent of {categorical_columns[j]} with p_val = {p_val}\")\n"
   ]
  },
  {
   "cell_type": "markdown",
   "id": "e226745a",
   "metadata": {
    "papermill": {
     "duration": 0.010273,
     "end_time": "2024-12-17T09:15:00.712373",
     "exception": false,
     "start_time": "2024-12-17T09:15:00.702100",
     "status": "completed"
    },
    "tags": []
   },
   "source": [
    "**HeartDisease vs categorical_columns**# "
   ]
  },
  {
   "cell_type": "code",
   "execution_count": 9,
   "id": "8de461b0",
   "metadata": {
    "execution": {
     "iopub.execute_input": "2024-12-17T09:15:00.735245Z",
     "iopub.status.busy": "2024-12-17T09:15:00.734865Z",
     "iopub.status.idle": "2024-12-17T09:15:00.776624Z",
     "shell.execute_reply": "2024-12-17T09:15:00.775239Z"
    },
    "papermill": {
     "duration": 0.056228,
     "end_time": "2024-12-17T09:15:00.779113",
     "exception": false,
     "start_time": "2024-12-17T09:15:00.722885",
     "status": "completed"
    },
    "tags": []
   },
   "outputs": [
    {
     "name": "stdout",
     "output_type": "stream",
     "text": [
      "Sex is dependent on HeartDisease with p_val = 4.597617450809164e-20\n",
      "ChestPainType is dependent on HeartDisease with p_val = 8.08372842808765e-58\n",
      "RestingECG is independent of HeartDisease with p_val = 0.0042292328167544925\n",
      "ExerciseAngina is dependent on HeartDisease with p_val = 2.907808387659878e-50\n",
      "ST_Slope is dependent on HeartDisease with p_val = 5.167637689470128e-78\n"
     ]
    }
   ],
   "source": [
    "df['HeartDisease']=df['HeartDisease'].astype('object')\n",
    "for i in categorical_columns:\n",
    "    chi2_val,p_val, _, _=chi2_contingency(pd.crosstab(df['HeartDisease'],df[i]))\n",
    "    if p_val < 0.001:\n",
    "            print(f\"{i} is dependent on {'HeartDisease'} with p_val = {p_val}\")\n",
    "    else:\n",
    "        print(f\"{i} is independent of {'HeartDisease'} with p_val = {p_val}\")\n",
    "\n",
    "\n",
    "\n"
   ]
  },
  {
   "cell_type": "markdown",
   "id": "c961ba58",
   "metadata": {
    "papermill": {
     "duration": 0.011013,
     "end_time": "2024-12-17T09:15:00.800753",
     "exception": false,
     "start_time": "2024-12-17T09:15:00.789740",
     "status": "completed"
    },
    "tags": []
   },
   "source": [
    "/// **RESTINGECG IS Least dependent on HeartDisease with farily low dependencies on ChestPainType,ExerciseAngina and independent on Sex so eliminating it would be wise to reduce features.**"
   ]
  },
  {
   "cell_type": "code",
   "execution_count": 10,
   "id": "0f291ccd",
   "metadata": {
    "execution": {
     "iopub.execute_input": "2024-12-17T09:15:00.824266Z",
     "iopub.status.busy": "2024-12-17T09:15:00.823870Z",
     "iopub.status.idle": "2024-12-17T09:15:00.829050Z",
     "shell.execute_reply": "2024-12-17T09:15:00.827841Z"
    },
    "papermill": {
     "duration": 0.019473,
     "end_time": "2024-12-17T09:15:00.831314",
     "exception": false,
     "start_time": "2024-12-17T09:15:00.811841",
     "status": "completed"
    },
    "tags": []
   },
   "outputs": [],
   "source": [
    "categorical_columns.remove('RestingECG')"
   ]
  },
  {
   "cell_type": "code",
   "execution_count": 11,
   "id": "71bdb18a",
   "metadata": {
    "execution": {
     "iopub.execute_input": "2024-12-17T09:15:00.854437Z",
     "iopub.status.busy": "2024-12-17T09:15:00.854070Z",
     "iopub.status.idle": "2024-12-17T09:15:00.878416Z",
     "shell.execute_reply": "2024-12-17T09:15:00.877230Z"
    },
    "papermill": {
     "duration": 0.038765,
     "end_time": "2024-12-17T09:15:00.880841",
     "exception": false,
     "start_time": "2024-12-17T09:15:00.842076",
     "status": "completed"
    },
    "tags": []
   },
   "outputs": [
    {
     "data": {
      "text/plain": [
       "(172, 13)"
      ]
     },
     "execution_count": 11,
     "metadata": {},
     "output_type": "execute_result"
    }
   ],
   "source": [
    "matrix=df.describe()\n",
    "df[df['Cholesterol']==0].shape"
   ]
  },
  {
   "cell_type": "code",
   "execution_count": 12,
   "id": "512e5e31",
   "metadata": {
    "execution": {
     "iopub.execute_input": "2024-12-17T09:15:00.904495Z",
     "iopub.status.busy": "2024-12-17T09:15:00.904123Z",
     "iopub.status.idle": "2024-12-17T09:15:02.568513Z",
     "shell.execute_reply": "2024-12-17T09:15:02.567286Z"
    },
    "papermill": {
     "duration": 1.679375,
     "end_time": "2024-12-17T09:15:02.571175",
     "exception": false,
     "start_time": "2024-12-17T09:15:00.891800",
     "status": "completed"
    },
    "tags": []
   },
   "outputs": [
    {
     "name": "stderr",
     "output_type": "stream",
     "text": [
      "/opt/conda/lib/python3.10/site-packages/seaborn/_oldcore.py:1119: FutureWarning: use_inf_as_na option is deprecated and will be removed in a future version. Convert inf values to NaN before operating instead.\n",
      "  with pd.option_context('mode.use_inf_as_na', True):\n",
      "/opt/conda/lib/python3.10/site-packages/seaborn/_oldcore.py:1119: FutureWarning: use_inf_as_na option is deprecated and will be removed in a future version. Convert inf values to NaN before operating instead.\n",
      "  with pd.option_context('mode.use_inf_as_na', True):\n",
      "/opt/conda/lib/python3.10/site-packages/seaborn/_oldcore.py:1119: FutureWarning: use_inf_as_na option is deprecated and will be removed in a future version. Convert inf values to NaN before operating instead.\n",
      "  with pd.option_context('mode.use_inf_as_na', True):\n",
      "/opt/conda/lib/python3.10/site-packages/seaborn/_oldcore.py:1119: FutureWarning: use_inf_as_na option is deprecated and will be removed in a future version. Convert inf values to NaN before operating instead.\n",
      "  with pd.option_context('mode.use_inf_as_na', True):\n"
     ]
    },
    {
     "data": {
      "image/png": "[encoded data removed]",
      "text/plain": [
       "<Figure size 2400x2400 with 4 Axes>"
      ]
     },
     "metadata": {},
     "output_type": "display_data"
    }
   ],
   "source": [
    "bin_lenght = []\n",
    "for i in numeric_columns:\n",
    "    # Freedman-Diaconis Rule for bins\n",
    "    iqr = matrix.loc['75%'][i] - matrix.loc['25%'][i]\n",
    "    bin_width = 2 * iqr / (matrix.loc['count'][i] ** (1/3))\n",
    "    \n",
    "    if bin_width != 0:\n",
    "        bin_lenght.append(int(np.ceil((df[i].max() - df[i].min()) / bin_width)))\n",
    "\n",
    "# Ensure `hist_array` aligns with `bin_lenght`\n",
    "hist_array = ['Age', 'RestingBP', 'Cholesterol', 'MaxHR']\n",
    "\n",
    "# Plot histograms\n",
    "plt.figure(figsize=(24, 24))\n",
    "for i in range(len(hist_array)):\n",
    "    plt.subplot(4, 4, i + 1)  # Define a 6x6 grid of subplots\n",
    "    sns.histplot(x=hist_array[i], bins=bin_lenght[i], data=df, kde=True,color='green')\n",
    "    plt.title(f\"Histogram of {hist_array[i]}\")  # Add a title\n",
    "    plt.xlabel(hist_array[i])  # Add x-axis label\n",
    "    plt.ylabel(\"Frequency\")  # Add y-axis label\n",
    "\n",
    "plt.tight_layout()  # Adjust layout to prevent overlap\n",
    "plt.show()\n",
    "\n"
   ]
  },
  {
   "cell_type": "markdown",
   "id": "e4811da0",
   "metadata": {
    "papermill": {
     "duration": 0.012504,
     "end_time": "2024-12-17T09:15:02.596463",
     "exception": false,
     "start_time": "2024-12-17T09:15:02.583959",
     "status": "completed"
    },
    "tags": []
   },
   "source": [
    " as we can see that there are  outlier(s) frequency is quite controlled except in cholesterol because of people not having cholestrol"
   ]
  },
  {
   "cell_type": "code",
   "execution_count": 13,
   "id": "902a9f24",
   "metadata": {
    "execution": {
     "iopub.execute_input": "2024-12-17T09:15:02.623733Z",
     "iopub.status.busy": "2024-12-17T09:15:02.623280Z",
     "iopub.status.idle": "2024-12-17T09:15:02.629091Z",
     "shell.execute_reply": "2024-12-17T09:15:02.627803Z"
    },
    "papermill": {
     "duration": 0.022439,
     "end_time": "2024-12-17T09:15:02.631693",
     "exception": false,
     "start_time": "2024-12-17T09:15:02.609254",
     "status": "completed"
    },
    "tags": []
   },
   "outputs": [],
   "source": [
    "numeric_columns=['Cholesterol', 'RestingBP','Age', 'FastingBS', 'MaxHR']"
   ]
  },
  {
   "cell_type": "code",
   "execution_count": 14,
   "id": "6fdc715d",
   "metadata": {
    "execution": {
     "iopub.execute_input": "2024-12-17T09:15:02.659778Z",
     "iopub.status.busy": "2024-12-17T09:15:02.658758Z",
     "iopub.status.idle": "2024-12-17T09:15:02.676175Z",
     "shell.execute_reply": "2024-12-17T09:15:02.674675Z"
    },
    "papermill": {
     "duration": 0.033951,
     "end_time": "2024-12-17T09:15:02.678540",
     "exception": false,
     "start_time": "2024-12-17T09:15:02.644589",
     "status": "completed"
    },
    "tags": []
   },
   "outputs": [
    {
     "name": "stdout",
     "output_type": "stream",
     "text": [
      " the number of outliers in age  0\n",
      "the number of outliers in RestingBP 7\n",
      " the number of outliers in Cholesterol  3\n",
      "the number of outliers in MaxHR 0\n"
     ]
    }
   ],
   "source": [
    "## Calcuting outliers using z-test \n",
    "\n",
    "from scipy.stats import zscore\n",
    "z_score_age=zscore(df['Age'])\n",
    "z_score_RestingBP=zscore(df['RestingBP'])\n",
    "z_score_Cholesterol=zscore(df['Cholesterol'])\n",
    "z_score_MaxHR=zscore(df['MaxHR'])\n",
    "\n",
    "print(f\" the number of outliers in age  {df[z_score_age>3].shape[0]}\")\n",
    "print(f\"the number of outliers in RestingBP {df[z_score_RestingBP>3].shape[0]}\")\n",
    "print(f\" the number of outliers in Cholesterol  {df[z_score_Cholesterol>3].shape[0]}\")\n",
    "print(f\"the number of outliers in MaxHR {df[z_score_MaxHR>3].shape[0]}\")\n",
    "\n",
    "\n",
    "numerical_df = df[(z_score_age <=3) & (z_score_RestingBP <= 3) & (z_score_Cholesterol <= 3) & (z_score_MaxHR <= 3)]\n",
    "\n"
   ]
  },
  {
   "cell_type": "code",
   "execution_count": 15,
   "id": "b4086a3c",
   "metadata": {
    "execution": {
     "iopub.execute_input": "2024-12-17T09:15:02.706271Z",
     "iopub.status.busy": "2024-12-17T09:15:02.705526Z",
     "iopub.status.idle": "2024-12-17T09:15:03.220906Z",
     "shell.execute_reply": "2024-12-17T09:15:03.219794Z"
    },
    "papermill": {
     "duration": 0.531809,
     "end_time": "2024-12-17T09:15:03.223265",
     "exception": false,
     "start_time": "2024-12-17T09:15:02.691456",
     "status": "completed"
    },
    "tags": []
   },
   "outputs": [
    {
     "data": {
      "text/plain": [
       "<Axes: >"
      ]
     },
     "execution_count": 15,
     "metadata": {},
     "output_type": "execute_result"
    },
    {
     "data": {
      "image/png": "[encoded data removed]",
      "text/plain": [
       "<Figure size 700x700 with 2 Axes>"
      ]
     },
     "metadata": {},
     "output_type": "display_data"
    }
   ],
   "source": [
    "### Calculation of no of outliers and heatmap\n",
    "plt.figure(figsize=(7,7))\n",
    "from matplotlib.colors import LinearSegmentedColormap\n",
    "\n",
    "\n",
    "colors = ['pink', 'lightcoral', 'orange']\n",
    "cmap = LinearSegmentedColormap.from_list(\"custom_heatmap\", colors)\n",
    "sns.heatmap(df[numeric_columns].corr(),annot=True,cbar=True)\n",
    "\n",
    "        "
   ]
  },
  {
   "cell_type": "code",
   "execution_count": 16,
   "id": "4c9b399a",
   "metadata": {
    "execution": {
     "iopub.execute_input": "2024-12-17T09:15:03.253022Z",
     "iopub.status.busy": "2024-12-17T09:15:03.252595Z",
     "iopub.status.idle": "2024-12-17T09:15:03.417209Z",
     "shell.execute_reply": "2024-12-17T09:15:03.415933Z"
    },
    "papermill": {
     "duration": 0.182732,
     "end_time": "2024-12-17T09:15:03.419737",
     "exception": false,
     "start_time": "2024-12-17T09:15:03.237005",
     "status": "completed"
    },
    "tags": []
   },
   "outputs": [
    {
     "name": "stdout",
     "output_type": "stream",
     "text": [
      "0 ___ 5.106826572821114\n",
      "1 ___ 44.927554383143146\n",
      "1 ___ 12.866341231725327\n",
      "1 ___ 1.322254276362313\n",
      "2 ___ 5.502567175078661\n",
      "['Cholesterol', 'FastingBS', 'MaxHR']\n"
     ]
    }
   ],
   "source": [
    "## vif calculation:\n",
    "from statsmodels.stats.outliers_influence import variance_inflation_factor\n",
    "numeric_columns_to_be_kept=[]\n",
    "vif_data=numerical_df[numeric_columns]\n",
    "total_columns=vif_data.shape[1]\n",
    "columns_index=0;abs\n",
    "for i in range(0,total_columns):\n",
    "    vif_value=variance_inflation_factor(vif_data,columns_index)\n",
    "    print(columns_index,'___',vif_value)\n",
    "    if vif_value<=6:\n",
    "        numeric_columns_to_be_kept.append(numeric_columns[i])\n",
    "        columns_index=columns_index+1;\n",
    "    else:\n",
    "        vif_data=vif_data.drop([numeric_columns[i]],axis=1)\n",
    "\n",
    "print(numeric_columns_to_be_kept)"
   ]
  },
  {
   "cell_type": "code",
   "execution_count": 17,
   "id": "c7ead2e7",
   "metadata": {
    "execution": {
     "iopub.execute_input": "2024-12-17T09:15:03.448835Z",
     "iopub.status.busy": "2024-12-17T09:15:03.448416Z",
     "iopub.status.idle": "2024-12-17T09:15:03.469293Z",
     "shell.execute_reply": "2024-12-17T09:15:03.468141Z"
    },
    "papermill": {
     "duration": 0.038688,
     "end_time": "2024-12-17T09:15:03.471989",
     "exception": false,
     "start_time": "2024-12-17T09:15:03.433301",
     "status": "completed"
    },
    "tags": []
   },
   "outputs": [
    {
     "name": "stdout",
     "output_type": "stream",
     "text": [
      "T-Statistic:Cholesterol----> -7.242908595426182\n",
      "P-Value: Cholesterol---->9.308308883532983e-13\n",
      "T-Statistic:FastingBS----> 8.395149993293485\n",
      "P-Value: FastingBS---->1.7535980103299486e-16\n",
      "T-Statistic:MaxHR----> -13.22548998290478\n",
      "P-Value: MaxHR---->1.1377859840278097e-36\n"
     ]
    }
   ],
   "source": [
    "### lets us do t-test now \n",
    "df['HeartDisease']=df['HeartDisease'].astype('object')\n",
    "from scipy.stats import ttest_ind\n",
    "for i in numeric_columns_to_be_kept:\n",
    "    groupA=df[df['HeartDisease']==1][i]\n",
    "    groupB=df[df['HeartDisease']==0][i]\n",
    "\n",
    "    t_stats,p_value=ttest_ind(groupA,groupB);\n",
    "\n",
    "    print(f\"T-Statistic:{i}----> {t_stats}\")\n",
    "    print(f\"P-Value: {i}---->{p_value}\")\n",
    "\n",
    "\n"
   ]
  },
  {
   "cell_type": "markdown",
   "id": "ae932863",
   "metadata": {
    "papermill": {
     "duration": 0.013524,
     "end_time": "2024-12-17T09:15:03.499404",
     "exception": false,
     "start_time": "2024-12-17T09:15:03.485880",
     "status": "completed"
    },
    "tags": []
   },
   "source": [
    "this show that Cholesterol,FastingBS,MaxHR have p_val <<<0.05 "
   ]
  },
  {
   "cell_type": "code",
   "execution_count": 18,
   "id": "fa6b6ef9",
   "metadata": {
    "execution": {
     "iopub.execute_input": "2024-12-17T09:15:03.528997Z",
     "iopub.status.busy": "2024-12-17T09:15:03.528536Z",
     "iopub.status.idle": "2024-12-17T09:15:03.543859Z",
     "shell.execute_reply": "2024-12-17T09:15:03.542696Z"
    },
    "papermill": {
     "duration": 0.033186,
     "end_time": "2024-12-17T09:15:03.546364",
     "exception": false,
     "start_time": "2024-12-17T09:15:03.513178",
     "status": "completed"
    },
    "tags": []
   },
   "outputs": [],
   "source": [
    "categorical_columns.append('index')\n",
    "categorical_columns.append('HeartDisease')\n",
    "numeric_columns_to_be_kept.append('index')\n",
    "new_df=pd.merge(df[categorical_columns],numerical_df[numeric_columns_to_be_kept],left_on=['index'],right_on=['index'])"
   ]
  },
  {
   "cell_type": "code",
   "execution_count": 19,
   "id": "30285194",
   "metadata": {
    "execution": {
     "iopub.execute_input": "2024-12-17T09:15:03.577898Z",
     "iopub.status.busy": "2024-12-17T09:15:03.577449Z",
     "iopub.status.idle": "2024-12-17T09:15:03.838695Z",
     "shell.execute_reply": "2024-12-17T09:15:03.837336Z"
    },
    "papermill": {
     "duration": 0.280603,
     "end_time": "2024-12-17T09:15:03.841410",
     "exception": false,
     "start_time": "2024-12-17T09:15:03.560807",
     "status": "completed"
    },
    "tags": []
   },
   "outputs": [],
   "source": [
    "from sklearn.preprocessing import LabelEncoder"
   ]
  },
  {
   "cell_type": "code",
   "execution_count": 20,
   "id": "86e2b0c5",
   "metadata": {
    "execution": {
     "iopub.execute_input": "2024-12-17T09:15:03.871837Z",
     "iopub.status.busy": "2024-12-17T09:15:03.871418Z",
     "iopub.status.idle": "2024-12-17T09:15:03.884139Z",
     "shell.execute_reply": "2024-12-17T09:15:03.882848Z"
    },
    "papermill": {
     "duration": 0.03075,
     "end_time": "2024-12-17T09:15:03.886446",
     "exception": false,
     "start_time": "2024-12-17T09:15:03.855696",
     "status": "completed"
    },
    "tags": []
   },
   "outputs": [
    {
     "name": "stdout",
     "output_type": "stream",
     "text": [
      "<class 'pandas.core.frame.DataFrame'>\n",
      "RangeIndex: 908 entries, 0 to 907\n",
      "Data columns (total 9 columns):\n",
      " #   Column          Non-Null Count  Dtype \n",
      "---  ------          --------------  ----- \n",
      " 0   Sex             908 non-null    object\n",
      " 1   ChestPainType   908 non-null    object\n",
      " 2   ExerciseAngina  908 non-null    object\n",
      " 3   ST_Slope        908 non-null    object\n",
      " 4   index           908 non-null    int64 \n",
      " 5   HeartDisease    908 non-null    object\n",
      " 6   Cholesterol     908 non-null    int64 \n",
      " 7   FastingBS       908 non-null    int64 \n",
      " 8   MaxHR           908 non-null    int64 \n",
      "dtypes: int64(4), object(5)\n",
      "memory usage: 64.0+ KB\n"
     ]
    }
   ],
   "source": [
    "new_df.info()"
   ]
  },
  {
   "cell_type": "code",
   "execution_count": 21,
   "id": "6ca775f7",
   "metadata": {
    "execution": {
     "iopub.execute_input": "2024-12-17T09:15:03.917055Z",
     "iopub.status.busy": "2024-12-17T09:15:03.916547Z",
     "iopub.status.idle": "2024-12-17T09:15:03.935317Z",
     "shell.execute_reply": "2024-12-17T09:15:03.934299Z"
    },
    "papermill": {
     "duration": 0.036988,
     "end_time": "2024-12-17T09:15:03.937749",
     "exception": false,
     "start_time": "2024-12-17T09:15:03.900761",
     "status": "completed"
    },
    "tags": []
   },
   "outputs": [],
   "source": [
    "## label encoding of ExerciseAngina ,OneHotEncoding of Sex,ChestPainType,ST_Slope\n",
    "new_df.loc[new_df['ExerciseAngina'] == 'Y', 'ExerciseAngina'] = 1\n",
    "new_df.loc[new_df['ExerciseAngina'] == 'N', 'ExerciseAngina'] = 0\n",
    "\n",
    "new_df= pd.get_dummies(new_df,columns=['ChestPainType'],prefix='type')\n",
    "new_df=pd.get_dummies(new_df,columns=['Sex'],prefix='Gender')\n",
    "new_df=pd.get_dummies(new_df,columns=['ST_Slope'],prefix='type')"
   ]
  },
  {
   "cell_type": "code",
   "execution_count": 22,
   "id": "e1fa0244",
   "metadata": {
    "execution": {
     "iopub.execute_input": "2024-12-17T09:15:03.967603Z",
     "iopub.status.busy": "2024-12-17T09:15:03.967187Z",
     "iopub.status.idle": "2024-12-17T09:15:03.983516Z",
     "shell.execute_reply": "2024-12-17T09:15:03.982375Z"
    },
    "papermill": {
     "duration": 0.034208,
     "end_time": "2024-12-17T09:15:03.986091",
     "exception": false,
     "start_time": "2024-12-17T09:15:03.951883",
     "status": "completed"
    },
    "tags": []
   },
   "outputs": [
    {
     "data": {
      "text/html": [
       "<div>\n",
       "<style scoped>\n",
       "    .dataframe tbody tr th:only-of-type {\n",
       "        vertical-align: middle;\n",
       "    }\n",
       "\n",
       "    .dataframe tbody tr th {\n",
       "        vertical-align: top;\n",
       "    }\n",
       "\n",
       "    .dataframe thead th {\n",
       "        text-align: right;\n",
       "    }\n",
       "</style>\n",
       "<table border=\"1\" class=\"dataframe\">\n",
       "  <thead>\n",
       "    <tr style=\"text-align: right;\">\n",
       "      <th></th>\n",
       "      <th>ExerciseAngina</th>\n",
       "      <th>index</th>\n",
       "      <th>HeartDisease</th>\n",
       "      <th>Cholesterol</th>\n",
       "      <th>FastingBS</th>\n",
       "      <th>MaxHR</th>\n",
       "      <th>type_ASY</th>\n",
       "      <th>type_ATA</th>\n",
       "      <th>type_NAP</th>\n",
       "      <th>type_TA</th>\n",
       "      <th>Gender_F</th>\n",
       "      <th>Gender_M</th>\n",
       "      <th>type_Down</th>\n",
       "      <th>type_Flat</th>\n",
       "      <th>type_Up</th>\n",
       "    </tr>\n",
       "  </thead>\n",
       "  <tbody>\n",
       "    <tr>\n",
       "      <th>0</th>\n",
       "      <td>0</td>\n",
       "      <td>0</td>\n",
       "      <td>0</td>\n",
       "      <td>289</td>\n",
       "      <td>0</td>\n",
       "      <td>172</td>\n",
       "      <td>False</td>\n",
       "      <td>True</td>\n",
       "      <td>False</td>\n",
       "      <td>False</td>\n",
       "      <td>False</td>\n",
       "      <td>True</td>\n",
       "      <td>False</td>\n",
       "      <td>False</td>\n",
       "      <td>True</td>\n",
       "    </tr>\n",
       "    <tr>\n",
       "      <th>1</th>\n",
       "      <td>0</td>\n",
       "      <td>1</td>\n",
       "      <td>1</td>\n",
       "      <td>180</td>\n",
       "      <td>0</td>\n",
       "      <td>156</td>\n",
       "      <td>False</td>\n",
       "      <td>False</td>\n",
       "      <td>True</td>\n",
       "      <td>False</td>\n",
       "      <td>True</td>\n",
       "      <td>False</td>\n",
       "      <td>False</td>\n",
       "      <td>True</td>\n",
       "      <td>False</td>\n",
       "    </tr>\n",
       "    <tr>\n",
       "      <th>2</th>\n",
       "      <td>0</td>\n",
       "      <td>2</td>\n",
       "      <td>0</td>\n",
       "      <td>283</td>\n",
       "      <td>0</td>\n",
       "      <td>98</td>\n",
       "      <td>False</td>\n",
       "      <td>True</td>\n",
       "      <td>False</td>\n",
       "      <td>False</td>\n",
       "      <td>False</td>\n",
       "      <td>True</td>\n",
       "      <td>False</td>\n",
       "      <td>False</td>\n",
       "      <td>True</td>\n",
       "    </tr>\n",
       "    <tr>\n",
       "      <th>3</th>\n",
       "      <td>1</td>\n",
       "      <td>3</td>\n",
       "      <td>1</td>\n",
       "      <td>214</td>\n",
       "      <td>0</td>\n",
       "      <td>108</td>\n",
       "      <td>True</td>\n",
       "      <td>False</td>\n",
       "      <td>False</td>\n",
       "      <td>False</td>\n",
       "      <td>True</td>\n",
       "      <td>False</td>\n",
       "      <td>False</td>\n",
       "      <td>True</td>\n",
       "      <td>False</td>\n",
       "    </tr>\n",
       "    <tr>\n",
       "      <th>4</th>\n",
       "      <td>0</td>\n",
       "      <td>4</td>\n",
       "      <td>0</td>\n",
       "      <td>195</td>\n",
       "      <td>0</td>\n",
       "      <td>122</td>\n",
       "      <td>False</td>\n",
       "      <td>False</td>\n",
       "      <td>True</td>\n",
       "      <td>False</td>\n",
       "      <td>False</td>\n",
       "      <td>True</td>\n",
       "      <td>False</td>\n",
       "      <td>False</td>\n",
       "      <td>True</td>\n",
       "    </tr>\n",
       "  </tbody>\n",
       "</table>\n",
       "</div>"
      ],
      "text/plain": [
       "  ExerciseAngina  index HeartDisease  Cholesterol  FastingBS  MaxHR  type_ASY  \\\n",
       "0              0      0            0          289          0    172     False   \n",
       "1              0      1            1          180          0    156     False   \n",
       "2              0      2            0          283          0     98     False   \n",
       "3              1      3            1          214          0    108      True   \n",
       "4              0      4            0          195          0    122     False   \n",
       "\n",
       "   type_ATA  type_NAP  type_TA  Gender_F  Gender_M  type_Down  type_Flat  \\\n",
       "0      True     False    False     False      True      False      False   \n",
       "1     False      True    False      True     False      False       True   \n",
       "2      True     False    False     False      True      False      False   \n",
       "3     False     False    False      True     False      False       True   \n",
       "4     False      True    False     False      True      False      False   \n",
       "\n",
       "   type_Up  \n",
       "0     True  \n",
       "1    False  \n",
       "2     True  \n",
       "3    False  \n",
       "4     True  "
      ]
     },
     "execution_count": 22,
     "metadata": {},
     "output_type": "execute_result"
    }
   ],
   "source": [
    "new_df.head()"
   ]
  },
  {
   "cell_type": "code",
   "execution_count": 23,
   "id": "c306bafc",
   "metadata": {
    "execution": {
     "iopub.execute_input": "2024-12-17T09:15:04.016361Z",
     "iopub.status.busy": "2024-12-17T09:15:04.015997Z",
     "iopub.status.idle": "2024-12-17T09:15:04.032839Z",
     "shell.execute_reply": "2024-12-17T09:15:04.031339Z"
    },
    "papermill": {
     "duration": 0.034779,
     "end_time": "2024-12-17T09:15:04.035258",
     "exception": false,
     "start_time": "2024-12-17T09:15:04.000479",
     "status": "completed"
    },
    "tags": []
   },
   "outputs": [
    {
     "name": "stderr",
     "output_type": "stream",
     "text": [
      "/tmp/ipykernel_17/631759313.py:1: FutureWarning: Downcasting behavior in `replace` is deprecated and will be removed in a future version. To retain the old behavior, explicitly call `result.infer_objects(copy=False)`. To opt-in to the future behavior, set `pd.set_option('future.no_silent_downcasting', True)`\n",
      "  df_encoded=new_df.replace({False:0,True:1})\n"
     ]
    }
   ],
   "source": [
    "df_encoded=new_df.replace({False:0,True:1})"
   ]
  },
  {
   "cell_type": "code",
   "execution_count": 24,
   "id": "25e9dc98",
   "metadata": {
    "execution": {
     "iopub.execute_input": "2024-12-17T09:15:04.065809Z",
     "iopub.status.busy": "2024-12-17T09:15:04.065423Z",
     "iopub.status.idle": "2024-12-17T09:15:04.079107Z",
     "shell.execute_reply": "2024-12-17T09:15:04.077976Z"
    },
    "papermill": {
     "duration": 0.031906,
     "end_time": "2024-12-17T09:15:04.081371",
     "exception": false,
     "start_time": "2024-12-17T09:15:04.049465",
     "status": "completed"
    },
    "tags": []
   },
   "outputs": [
    {
     "data": {
      "text/html": [
       "<div>\n",
       "<style scoped>\n",
       "    .dataframe tbody tr th:only-of-type {\n",
       "        vertical-align: middle;\n",
       "    }\n",
       "\n",
       "    .dataframe tbody tr th {\n",
       "        vertical-align: top;\n",
       "    }\n",
       "\n",
       "    .dataframe thead th {\n",
       "        text-align: right;\n",
       "    }\n",
       "</style>\n",
       "<table border=\"1\" class=\"dataframe\">\n",
       "  <thead>\n",
       "    <tr style=\"text-align: right;\">\n",
       "      <th></th>\n",
       "      <th>ExerciseAngina</th>\n",
       "      <th>index</th>\n",
       "      <th>HeartDisease</th>\n",
       "      <th>Cholesterol</th>\n",
       "      <th>FastingBS</th>\n",
       "      <th>MaxHR</th>\n",
       "      <th>type_ASY</th>\n",
       "      <th>type_ATA</th>\n",
       "      <th>type_NAP</th>\n",
       "      <th>type_TA</th>\n",
       "      <th>Gender_F</th>\n",
       "      <th>Gender_M</th>\n",
       "      <th>type_Down</th>\n",
       "      <th>type_Flat</th>\n",
       "      <th>type_Up</th>\n",
       "    </tr>\n",
       "  </thead>\n",
       "  <tbody>\n",
       "    <tr>\n",
       "      <th>0</th>\n",
       "      <td>0</td>\n",
       "      <td>0</td>\n",
       "      <td>0</td>\n",
       "      <td>289</td>\n",
       "      <td>0</td>\n",
       "      <td>172</td>\n",
       "      <td>0</td>\n",
       "      <td>1</td>\n",
       "      <td>0</td>\n",
       "      <td>0</td>\n",
       "      <td>0</td>\n",
       "      <td>1</td>\n",
       "      <td>0</td>\n",
       "      <td>0</td>\n",
       "      <td>1</td>\n",
       "    </tr>\n",
       "    <tr>\n",
       "      <th>1</th>\n",
       "      <td>0</td>\n",
       "      <td>1</td>\n",
       "      <td>1</td>\n",
       "      <td>180</td>\n",
       "      <td>0</td>\n",
       "      <td>156</td>\n",
       "      <td>0</td>\n",
       "      <td>0</td>\n",
       "      <td>1</td>\n",
       "      <td>0</td>\n",
       "      <td>1</td>\n",
       "      <td>0</td>\n",
       "      <td>0</td>\n",
       "      <td>1</td>\n",
       "      <td>0</td>\n",
       "    </tr>\n",
       "    <tr>\n",
       "      <th>2</th>\n",
       "      <td>0</td>\n",
       "      <td>2</td>\n",
       "      <td>0</td>\n",
       "      <td>283</td>\n",
       "      <td>0</td>\n",
       "      <td>98</td>\n",
       "      <td>0</td>\n",
       "      <td>1</td>\n",
       "      <td>0</td>\n",
       "      <td>0</td>\n",
       "      <td>0</td>\n",
       "      <td>1</td>\n",
       "      <td>0</td>\n",
       "      <td>0</td>\n",
       "      <td>1</td>\n",
       "    </tr>\n",
       "    <tr>\n",
       "      <th>3</th>\n",
       "      <td>1</td>\n",
       "      <td>3</td>\n",
       "      <td>1</td>\n",
       "      <td>214</td>\n",
       "      <td>0</td>\n",
       "      <td>108</td>\n",
       "      <td>1</td>\n",
       "      <td>0</td>\n",
       "      <td>0</td>\n",
       "      <td>0</td>\n",
       "      <td>1</td>\n",
       "      <td>0</td>\n",
       "      <td>0</td>\n",
       "      <td>1</td>\n",
       "      <td>0</td>\n",
       "    </tr>\n",
       "    <tr>\n",
       "      <th>4</th>\n",
       "      <td>0</td>\n",
       "      <td>4</td>\n",
       "      <td>0</td>\n",
       "      <td>195</td>\n",
       "      <td>0</td>\n",
       "      <td>122</td>\n",
       "      <td>0</td>\n",
       "      <td>0</td>\n",
       "      <td>1</td>\n",
       "      <td>0</td>\n",
       "      <td>0</td>\n",
       "      <td>1</td>\n",
       "      <td>0</td>\n",
       "      <td>0</td>\n",
       "      <td>1</td>\n",
       "    </tr>\n",
       "  </tbody>\n",
       "</table>\n",
       "</div>"
      ],
      "text/plain": [
       "   ExerciseAngina  index  HeartDisease  Cholesterol  FastingBS  MaxHR  \\\n",
       "0               0      0             0          289          0    172   \n",
       "1               0      1             1          180          0    156   \n",
       "2               0      2             0          283          0     98   \n",
       "3               1      3             1          214          0    108   \n",
       "4               0      4             0          195          0    122   \n",
       "\n",
       "   type_ASY  type_ATA  type_NAP  type_TA  Gender_F  Gender_M  type_Down  \\\n",
       "0         0         1         0        0         0         1          0   \n",
       "1         0         0         1        0         1         0          0   \n",
       "2         0         1         0        0         0         1          0   \n",
       "3         1         0         0        0         1         0          0   \n",
       "4         0         0         1        0         0         1          0   \n",
       "\n",
       "   type_Flat  type_Up  \n",
       "0          0        1  \n",
       "1          1        0  \n",
       "2          0        1  \n",
       "3          1        0  \n",
       "4          0        1  "
      ]
     },
     "execution_count": 24,
     "metadata": {},
     "output_type": "execute_result"
    }
   ],
   "source": [
    "df_encoded.head()"
   ]
  },
  {
   "cell_type": "code",
   "execution_count": 25,
   "id": "ff11efdc",
   "metadata": {
    "execution": {
     "iopub.execute_input": "2024-12-17T09:15:04.113691Z",
     "iopub.status.busy": "2024-12-17T09:15:04.113294Z",
     "iopub.status.idle": "2024-12-17T09:15:04.595892Z",
     "shell.execute_reply": "2024-12-17T09:15:04.594727Z"
    },
    "papermill": {
     "duration": 0.502234,
     "end_time": "2024-12-17T09:15:04.598533",
     "exception": false,
     "start_time": "2024-12-17T09:15:04.096299",
     "status": "completed"
    },
    "tags": []
   },
   "outputs": [],
   "source": [
    "### Machine learning model selection\n",
    "from sklearn.model_selection import train_test_split\n",
    "y=df_encoded['HeartDisease']\n",
    "x=df_encoded.drop(['HeartDisease'],axis=1)\n",
    "x_train,x_test,y_train,y_test=train_test_split(x,y,test_size=0.2,random_state=42)\n",
    "\n",
    "from sklearn.ensemble import RandomForestClassifier  # For classification\n",
    "from sklearn.ensemble import RandomForestRegressor  # For regression"
   ]
  },
  {
   "cell_type": "code",
   "execution_count": 26,
   "id": "fe58c6d4",
   "metadata": {
    "execution": {
     "iopub.execute_input": "2024-12-17T09:15:04.629839Z",
     "iopub.status.busy": "2024-12-17T09:15:04.629428Z",
     "iopub.status.idle": "2024-12-17T09:15:05.070877Z",
     "shell.execute_reply": "2024-12-17T09:15:05.069581Z"
    },
    "papermill": {
     "duration": 0.460137,
     "end_time": "2024-12-17T09:15:05.073365",
     "exception": false,
     "start_time": "2024-12-17T09:15:04.613228",
     "status": "completed"
    },
    "tags": []
   },
   "outputs": [],
   "source": [
    "rf_classifier=RandomForestClassifier(n_estimators=200,random_state=42)\n",
    "rf_classifier.fit(x_train,y_train)\n",
    "y_pred=rf_classifier.predict(x_test)"
   ]
  },
  {
   "cell_type": "code",
   "execution_count": 27,
   "id": "e0d40e3c",
   "metadata": {
    "execution": {
     "iopub.execute_input": "2024-12-17T09:15:05.105574Z",
     "iopub.status.busy": "2024-12-17T09:15:05.105181Z",
     "iopub.status.idle": "2024-12-17T09:15:05.117552Z",
     "shell.execute_reply": "2024-12-17T09:15:05.116126Z"
    },
    "papermill": {
     "duration": 0.032179,
     "end_time": "2024-12-17T09:15:05.120036",
     "exception": false,
     "start_time": "2024-12-17T09:15:05.087857",
     "status": "completed"
    },
    "tags": []
   },
   "outputs": [
    {
     "name": "stdout",
     "output_type": "stream",
     "text": [
      "\n",
      "Accuracy:0.8681318681318682\n",
      "\n"
     ]
    }
   ],
   "source": [
    "from sklearn.metrics import accuracy_score\n",
    "\n",
    "accuracy=accuracy_score(y_test,y_pred)\n",
    "print()\n",
    "print(f'Accuracy:{accuracy}')\n",
    "print()\n",
    "from sklearn.metrics import precision_recall_fscore_support\n",
    "precision,recall,f1_score,_=precision_recall_fscore_support(y_test,y_pred)"
   ]
  },
  {
   "cell_type": "code",
   "execution_count": 28,
   "id": "249683f0",
   "metadata": {
    "execution": {
     "iopub.execute_input": "2024-12-17T09:15:05.151754Z",
     "iopub.status.busy": "2024-12-17T09:15:05.150913Z",
     "iopub.status.idle": "2024-12-17T09:15:05.157376Z",
     "shell.execute_reply": "2024-12-17T09:15:05.156120Z"
    },
    "papermill": {
     "duration": 0.025535,
     "end_time": "2024-12-17T09:15:05.160070",
     "exception": false,
     "start_time": "2024-12-17T09:15:05.134535",
     "status": "completed"
    },
    "tags": []
   },
   "outputs": [
    {
     "name": "stdout",
     "output_type": "stream",
     "text": [
      "Class1:\n",
      "Precision: 0.8395061728395061\n",
      "Recall: 0.8607594936708861\n",
      "F1 Score :0.8500000000000001\n",
      "\n",
      "Class0:\n",
      "Precision: 0.8910891089108911\n",
      "Recall: 0.8737864077669902\n",
      "F1 Score :0.8823529411764707\n",
      "\n"
     ]
    }
   ],
   "source": [
    "for i,v in enumerate([1,0]):\n",
    "    print(f\"Class{v}:\")\n",
    "    print(f\"Precision: {precision[i]}\")\n",
    "    print(f\"Recall: {recall[i]}\")\n",
    "    print(f\"F1 Score :{f1_score[i]}\")\n",
    "    print()"
   ]
  },
  {
   "cell_type": "code",
   "execution_count": 29,
   "id": "52861fa9",
   "metadata": {
    "execution": {
     "iopub.execute_input": "2024-12-17T09:15:05.191136Z",
     "iopub.status.busy": "2024-12-17T09:15:05.190513Z",
     "iopub.status.idle": "2024-12-17T09:15:05.441567Z",
     "shell.execute_reply": "2024-12-17T09:15:05.440553Z"
    },
    "papermill": {
     "duration": 0.269239,
     "end_time": "2024-12-17T09:15:05.443892",
     "exception": false,
     "start_time": "2024-12-17T09:15:05.174653",
     "status": "completed"
    },
    "tags": []
   },
   "outputs": [],
   "source": [
    "from xgboost import XGBClassifier\n",
    "from xgboost import XGBRegressor\n",
    "import xgboost as xgb\n",
    "from sklearn.preprocessing import LabelEncoder"
   ]
  },
  {
   "cell_type": "code",
   "execution_count": 30,
   "id": "1b7b10ca",
   "metadata": {
    "execution": {
     "iopub.execute_input": "2024-12-17T09:15:05.475106Z",
     "iopub.status.busy": "2024-12-17T09:15:05.474718Z",
     "iopub.status.idle": "2024-12-17T09:15:05.700860Z",
     "shell.execute_reply": "2024-12-17T09:15:05.698032Z"
    },
    "papermill": {
     "duration": 0.245434,
     "end_time": "2024-12-17T09:15:05.703936",
     "exception": false,
     "start_time": "2024-12-17T09:15:05.458502",
     "status": "completed"
    },
    "tags": []
   },
   "outputs": [
    {
     "name": "stdout",
     "output_type": "stream",
     "text": [
      "\n",
      "accuracy: 0.857143\n",
      "\n",
      "Class1:\n",
      "Precision: 0.8533333333333334\n",
      "Recall: 0.810126582278481\n",
      "F1 Score :0.8311688311688312\n",
      "\n",
      "Class0:\n",
      "Precision: 0.8598130841121495\n",
      "Recall: 0.8932038834951457\n",
      "F1 Score :0.8761904761904761\n",
      "\n"
     ]
    }
   ],
   "source": [
    "xgb_classifier=xgb.XGBClassifier(objective='multi:softmax',num_class=4)\n",
    "y=df_encoded['HeartDisease']\n",
    "x=df_encoded.drop(['HeartDisease'],axis=1)\n",
    "\n",
    "label_encoder=LabelEncoder()\n",
    "y_encoded=label_encoder.fit_transform(y)\n",
    "\n",
    "x_train,x_test,y_train,y_test=train_test_split(x,y_encoded,test_size=0.2,random_state=42)\n",
    "\n",
    "\n",
    "xgb_classifier.fit(x_train,y_train)\n",
    "y_pred=xgb_classifier.predict(x_test)\n",
    "\n",
    "precision,recall,f1_score,_=precision_recall_fscore_support(y_test,y_pred)\n",
    "\n",
    "accuracy=accuracy_score(y_test, y_pred)\n",
    "print()\n",
    "print(f'accuracy: {accuracy:.6f}')\n",
    "print()\n",
    "for i,v in enumerate([1,0]):\n",
    "    print(f\"Class{v}:\")\n",
    "    print(f\"Precision: {precision[i]}\")\n",
    "    print(f\"Recall: {recall[i]}\")\n",
    "    print(f\"F1 Score :{f1_score[i]}\")\n",
    "    print()"
   ]
  },
  {
   "cell_type": "code",
   "execution_count": 31,
   "id": "9a8b06ef",
   "metadata": {
    "execution": {
     "iopub.execute_input": "2024-12-17T09:15:05.739458Z",
     "iopub.status.busy": "2024-12-17T09:15:05.738844Z",
     "iopub.status.idle": "2024-12-17T09:15:05.763041Z",
     "shell.execute_reply": "2024-12-17T09:15:05.761709Z"
    },
    "papermill": {
     "duration": 0.04468,
     "end_time": "2024-12-17T09:15:05.765952",
     "exception": false,
     "start_time": "2024-12-17T09:15:05.721272",
     "status": "completed"
    },
    "tags": []
   },
   "outputs": [
    {
     "name": "stdout",
     "output_type": "stream",
     "text": [
      "\n",
      "Accuracy :  0.80219780\n",
      "\n",
      "\n",
      "accuracy: 0.802198\n",
      "\n",
      "Class1:\n",
      "Precision: 0.7741935483870968\n",
      "Recall: 0.8275862068965517\n",
      "F1 Score :0.7999999999999999\n",
      "\n",
      "Class0:\n",
      "Precision: 0.8314606741573034\n",
      "Recall: 0.7789473684210526\n",
      "F1 Score :0.8043478260869564\n",
      "\n"
     ]
    }
   ],
   "source": [
    "from sklearn.tree import DecisionTreeClassifier  \n",
    "from sklearn.tree import DecisionTreeRegressor  \n",
    "y= df_encoded['HeartDisease']\n",
    "x=df_encoded.drop(['HeartDisease'],axis=1)\n",
    "\n",
    "x_train,x_test,y_train,y_test=train_test_split(x,y,test_size=0.2,random_state=43)\n",
    "\n",
    "dt_model=DecisionTreeClassifier(max_depth=20,min_samples_split=10)\n",
    "dt_model.fit(x_train,y_train)\n",
    "y_pred=dt_model.predict(x_test)\n",
    "\n",
    "accuracy=accuracy_score(y_test, y_pred)\n",
    "print()\n",
    "print(f\"Accuracy : {accuracy: .8f}\")\n",
    "print()\n",
    "\n",
    "precision,recall,f1_score,_=precision_recall_fscore_support(y_test,y_pred)\n",
    "\n",
    "accuracy=accuracy_score(y_test, y_pred)\n",
    "print()\n",
    "print(f'accuracy: {accuracy:.6f}')\n",
    "print()\n",
    "for i,v in enumerate([1,0]):\n",
    "    print(f\"Class{v}:\")\n",
    "    print(f\"Precision: {precision[i]}\")\n",
    "    print(f\"Recall: {recall[i]}\")\n",
    "    print(f\"F1 Score :{f1_score[i]}\")\n",
    "    print()\n"
   ]
  },
  {
   "cell_type": "code",
   "execution_count": 32,
   "id": "8b46e6e6",
   "metadata": {
    "execution": {
     "iopub.execute_input": "2024-12-17T09:15:05.797304Z",
     "iopub.status.busy": "2024-12-17T09:15:05.796892Z",
     "iopub.status.idle": "2024-12-17T09:15:05.802965Z",
     "shell.execute_reply": "2024-12-17T09:15:05.801861Z"
    },
    "papermill": {
     "duration": 0.024644,
     "end_time": "2024-12-17T09:15:05.805347",
     "exception": false,
     "start_time": "2024-12-17T09:15:05.780703",
     "status": "completed"
    },
    "tags": []
   },
   "outputs": [],
   "source": [
    "param_grid={\n",
    "    'colsample_bytree':[0.1,0.3,0.5],\n",
    "    'learning_rate':[0.01,0.1],\n",
    "    'max_depth':[3,5,8],\n",
    "    'alpha':[1,5,10],\n",
    "    'n_estimators':[10,50]\n",
    "}\n",
    "index=0\n",
    "answer_grid={\n",
    "    'combination' :[],\n",
    "    'train_Accuracy' :[],\n",
    "    'test_Accuracy':[],\n",
    "    'colsample_bytree' :[],\n",
    "    'learning_rate':[],\n",
    "    'max_depth':[],\n",
    "    'alpha' :[],\n",
    "    'n_estimators' :[]\n",
    "    \n",
    "}"
   ]
  },
  {
   "cell_type": "code",
   "execution_count": 33,
   "id": "b7df2cb0",
   "metadata": {
    "execution": {
     "iopub.execute_input": "2024-12-17T09:15:05.837201Z",
     "iopub.status.busy": "2024-12-17T09:15:05.836802Z",
     "iopub.status.idle": "2024-12-17T09:15:10.956828Z",
     "shell.execute_reply": "2024-12-17T09:15:10.955711Z"
    },
    "papermill": {
     "duration": 5.138596,
     "end_time": "2024-12-17T09:15:10.959177",
     "exception": false,
     "start_time": "2024-12-17T09:15:05.820581",
     "status": "completed"
    },
    "tags": []
   },
   "outputs": [
    {
     "name": "stdout",
     "output_type": "stream",
     "text": [
      "Combination1\n",
      "colsample_bytree:0.1,learning_rate:0.01,max_depth :3,alpha:1,n_estimators :10\n",
      "Train_Accuracy: 0.85\n",
      "Test Accuracy : 0.91\n",
      "------------------------------\n",
      "Combination2\n",
      "colsample_bytree:0.1,learning_rate:0.01,max_depth :3,alpha:1,n_estimators :50\n",
      "Train_Accuracy: 0.85\n",
      "Test Accuracy : 0.91\n",
      "------------------------------\n",
      "Combination3\n",
      "colsample_bytree:0.1,learning_rate:0.01,max_depth :3,alpha:5,n_estimators :10\n",
      "Train_Accuracy: 0.84\n",
      "Test Accuracy : 0.91\n",
      "------------------------------\n",
      "Combination4\n",
      "colsample_bytree:0.1,learning_rate:0.01,max_depth :3,alpha:5,n_estimators :50\n",
      "Train_Accuracy: 0.85\n",
      "Test Accuracy : 0.91\n",
      "------------------------------\n",
      "Combination5\n",
      "colsample_bytree:0.1,learning_rate:0.01,max_depth :3,alpha:10,n_estimators :10\n",
      "Train_Accuracy: 0.84\n",
      "Test Accuracy : 0.91\n",
      "------------------------------\n",
      "Combination6\n",
      "colsample_bytree:0.1,learning_rate:0.01,max_depth :3,alpha:10,n_estimators :50\n",
      "Train_Accuracy: 0.85\n",
      "Test Accuracy : 0.91\n",
      "------------------------------\n",
      "Combination7\n",
      "colsample_bytree:0.1,learning_rate:0.01,max_depth :5,alpha:1,n_estimators :10\n",
      "Train_Accuracy: 0.84\n",
      "Test Accuracy : 0.91\n",
      "------------------------------\n",
      "Combination8\n",
      "colsample_bytree:0.1,learning_rate:0.01,max_depth :5,alpha:1,n_estimators :50\n",
      "Train_Accuracy: 0.85\n",
      "Test Accuracy : 0.91\n",
      "------------------------------\n",
      "Combination9\n",
      "colsample_bytree:0.1,learning_rate:0.01,max_depth :5,alpha:5,n_estimators :10\n",
      "Train_Accuracy: 0.84\n",
      "Test Accuracy : 0.91\n",
      "------------------------------\n",
      "Combination10\n",
      "colsample_bytree:0.1,learning_rate:0.01,max_depth :5,alpha:5,n_estimators :50\n",
      "Train_Accuracy: 0.85\n",
      "Test Accuracy : 0.90\n",
      "------------------------------\n",
      "Combination11\n",
      "colsample_bytree:0.1,learning_rate:0.01,max_depth :5,alpha:10,n_estimators :10\n",
      "Train_Accuracy: 0.84\n",
      "Test Accuracy : 0.91\n",
      "------------------------------\n",
      "Combination12\n",
      "colsample_bytree:0.1,learning_rate:0.01,max_depth :5,alpha:10,n_estimators :50\n",
      "Train_Accuracy: 0.85\n",
      "Test Accuracy : 0.91\n",
      "------------------------------\n",
      "Combination13\n",
      "colsample_bytree:0.1,learning_rate:0.01,max_depth :8,alpha:1,n_estimators :10\n",
      "Train_Accuracy: 0.84\n",
      "Test Accuracy : 0.91\n",
      "------------------------------\n",
      "Combination14\n",
      "colsample_bytree:0.1,learning_rate:0.01,max_depth :8,alpha:1,n_estimators :50\n",
      "Train_Accuracy: 0.86\n",
      "Test Accuracy : 0.91\n",
      "------------------------------\n",
      "Combination15\n",
      "colsample_bytree:0.1,learning_rate:0.01,max_depth :8,alpha:5,n_estimators :10\n",
      "Train_Accuracy: 0.84\n",
      "Test Accuracy : 0.91\n",
      "------------------------------\n",
      "Combination16\n",
      "colsample_bytree:0.1,learning_rate:0.01,max_depth :8,alpha:5,n_estimators :50\n",
      "Train_Accuracy: 0.85\n",
      "Test Accuracy : 0.90\n",
      "------------------------------\n",
      "Combination17\n",
      "colsample_bytree:0.1,learning_rate:0.01,max_depth :8,alpha:10,n_estimators :10\n",
      "Train_Accuracy: 0.84\n",
      "Test Accuracy : 0.91\n",
      "------------------------------\n",
      "Combination18\n",
      "colsample_bytree:0.1,learning_rate:0.01,max_depth :8,alpha:10,n_estimators :50\n",
      "Train_Accuracy: 0.85\n",
      "Test Accuracy : 0.91\n",
      "------------------------------\n",
      "Combination19\n",
      "colsample_bytree:0.1,learning_rate:0.1,max_depth :3,alpha:1,n_estimators :10\n",
      "Train_Accuracy: 0.84\n",
      "Test Accuracy : 0.89\n",
      "------------------------------\n",
      "Combination20\n",
      "colsample_bytree:0.1,learning_rate:0.1,max_depth :3,alpha:1,n_estimators :50\n",
      "Train_Accuracy: 0.86\n",
      "Test Accuracy : 0.90\n",
      "------------------------------\n",
      "Combination21\n",
      "colsample_bytree:0.1,learning_rate:0.1,max_depth :3,alpha:5,n_estimators :10\n",
      "Train_Accuracy: 0.84\n",
      "Test Accuracy : 0.88\n",
      "------------------------------\n",
      "Combination22\n",
      "colsample_bytree:0.1,learning_rate:0.1,max_depth :3,alpha:5,n_estimators :50\n",
      "Train_Accuracy: 0.86\n",
      "Test Accuracy : 0.89\n",
      "------------------------------\n",
      "Combination23\n",
      "colsample_bytree:0.1,learning_rate:0.1,max_depth :3,alpha:10,n_estimators :10\n",
      "Train_Accuracy: 0.84\n",
      "Test Accuracy : 0.88\n",
      "------------------------------\n",
      "Combination24\n",
      "colsample_bytree:0.1,learning_rate:0.1,max_depth :3,alpha:10,n_estimators :50\n",
      "Train_Accuracy: 0.86\n",
      "Test Accuracy : 0.89\n",
      "------------------------------\n",
      "Combination25\n",
      "colsample_bytree:0.1,learning_rate:0.1,max_depth :5,alpha:1,n_estimators :10\n",
      "Train_Accuracy: 0.85\n",
      "Test Accuracy : 0.87\n",
      "------------------------------\n",
      "Combination26\n",
      "colsample_bytree:0.1,learning_rate:0.1,max_depth :5,alpha:1,n_estimators :50\n",
      "Train_Accuracy: 0.87\n",
      "Test Accuracy : 0.89\n",
      "------------------------------\n",
      "Combination27\n",
      "colsample_bytree:0.1,learning_rate:0.1,max_depth :5,alpha:5,n_estimators :10\n",
      "Train_Accuracy: 0.84\n",
      "Test Accuracy : 0.88\n",
      "------------------------------\n",
      "Combination28\n",
      "colsample_bytree:0.1,learning_rate:0.1,max_depth :5,alpha:5,n_estimators :50\n",
      "Train_Accuracy: 0.86\n",
      "Test Accuracy : 0.89\n",
      "------------------------------\n",
      "Combination29\n",
      "colsample_bytree:0.1,learning_rate:0.1,max_depth :5,alpha:10,n_estimators :10\n",
      "Train_Accuracy: 0.84\n",
      "Test Accuracy : 0.88\n",
      "------------------------------\n",
      "Combination30\n",
      "colsample_bytree:0.1,learning_rate:0.1,max_depth :5,alpha:10,n_estimators :50\n",
      "Train_Accuracy: 0.86\n",
      "Test Accuracy : 0.89\n",
      "------------------------------\n",
      "Combination31\n",
      "colsample_bytree:0.1,learning_rate:0.1,max_depth :8,alpha:1,n_estimators :10\n",
      "Train_Accuracy: 0.86\n",
      "Test Accuracy : 0.87\n",
      "------------------------------\n",
      "Combination32\n",
      "colsample_bytree:0.1,learning_rate:0.1,max_depth :8,alpha:1,n_estimators :50\n",
      "Train_Accuracy: 0.87\n",
      "Test Accuracy : 0.90\n",
      "------------------------------\n",
      "Combination33\n",
      "colsample_bytree:0.1,learning_rate:0.1,max_depth :8,alpha:5,n_estimators :10\n",
      "Train_Accuracy: 0.84\n",
      "Test Accuracy : 0.88\n",
      "------------------------------\n",
      "Combination34\n",
      "colsample_bytree:0.1,learning_rate:0.1,max_depth :8,alpha:5,n_estimators :50\n",
      "Train_Accuracy: 0.86\n",
      "Test Accuracy : 0.89\n",
      "------------------------------\n",
      "Combination35\n",
      "colsample_bytree:0.1,learning_rate:0.1,max_depth :8,alpha:10,n_estimators :10\n",
      "Train_Accuracy: 0.84\n",
      "Test Accuracy : 0.88\n",
      "------------------------------\n",
      "Combination36\n",
      "colsample_bytree:0.1,learning_rate:0.1,max_depth :8,alpha:10,n_estimators :50\n",
      "Train_Accuracy: 0.86\n",
      "Test Accuracy : 0.89\n",
      "------------------------------\n",
      "Combination37\n",
      "colsample_bytree:0.3,learning_rate:0.01,max_depth :3,alpha:1,n_estimators :10\n",
      "Train_Accuracy: 0.87\n",
      "Test Accuracy : 0.91\n",
      "------------------------------\n",
      "Combination38\n",
      "colsample_bytree:0.3,learning_rate:0.01,max_depth :3,alpha:1,n_estimators :50\n",
      "Train_Accuracy: 0.87\n",
      "Test Accuracy : 0.92\n",
      "------------------------------\n",
      "Combination39\n",
      "colsample_bytree:0.3,learning_rate:0.01,max_depth :3,alpha:5,n_estimators :10\n",
      "Train_Accuracy: 0.87\n",
      "Test Accuracy : 0.90\n",
      "------------------------------\n",
      "Combination40\n",
      "colsample_bytree:0.3,learning_rate:0.01,max_depth :3,alpha:5,n_estimators :50\n",
      "Train_Accuracy: 0.87\n",
      "Test Accuracy : 0.91\n",
      "------------------------------\n",
      "Combination41\n",
      "colsample_bytree:0.3,learning_rate:0.01,max_depth :3,alpha:10,n_estimators :10\n",
      "Train_Accuracy: 0.85\n",
      "Test Accuracy : 0.88\n",
      "------------------------------\n",
      "Combination42\n",
      "colsample_bytree:0.3,learning_rate:0.01,max_depth :3,alpha:10,n_estimators :50\n",
      "Train_Accuracy: 0.87\n",
      "Test Accuracy : 0.90\n",
      "------------------------------\n",
      "Combination43\n",
      "colsample_bytree:0.3,learning_rate:0.01,max_depth :5,alpha:1,n_estimators :10\n",
      "Train_Accuracy: 0.88\n",
      "Test Accuracy : 0.91\n",
      "------------------------------\n",
      "Combination44\n",
      "colsample_bytree:0.3,learning_rate:0.01,max_depth :5,alpha:1,n_estimators :50\n",
      "Train_Accuracy: 0.88\n",
      "Test Accuracy : 0.91\n",
      "------------------------------\n",
      "Combination45\n",
      "colsample_bytree:0.3,learning_rate:0.01,max_depth :5,alpha:5,n_estimators :10\n",
      "Train_Accuracy: 0.87\n",
      "Test Accuracy : 0.90\n",
      "------------------------------\n",
      "Combination46\n",
      "colsample_bytree:0.3,learning_rate:0.01,max_depth :5,alpha:5,n_estimators :50\n",
      "Train_Accuracy: 0.87\n",
      "Test Accuracy : 0.91\n",
      "------------------------------\n",
      "Combination47\n",
      "colsample_bytree:0.3,learning_rate:0.01,max_depth :5,alpha:10,n_estimators :10\n",
      "Train_Accuracy: 0.84\n",
      "Test Accuracy : 0.88\n",
      "------------------------------\n",
      "Combination48\n",
      "colsample_bytree:0.3,learning_rate:0.01,max_depth :5,alpha:10,n_estimators :50\n",
      "Train_Accuracy: 0.87\n",
      "Test Accuracy : 0.90\n",
      "------------------------------\n",
      "Combination49\n",
      "colsample_bytree:0.3,learning_rate:0.01,max_depth :8,alpha:1,n_estimators :10\n",
      "Train_Accuracy: 0.88\n",
      "Test Accuracy : 0.92\n",
      "------------------------------\n",
      "Combination50\n",
      "colsample_bytree:0.3,learning_rate:0.01,max_depth :8,alpha:1,n_estimators :50\n",
      "Train_Accuracy: 0.88\n",
      "Test Accuracy : 0.91\n",
      "------------------------------\n",
      "Combination51\n",
      "colsample_bytree:0.3,learning_rate:0.01,max_depth :8,alpha:5,n_estimators :10\n",
      "Train_Accuracy: 0.87\n",
      "Test Accuracy : 0.90\n",
      "------------------------------\n",
      "Combination52\n",
      "colsample_bytree:0.3,learning_rate:0.01,max_depth :8,alpha:5,n_estimators :50\n",
      "Train_Accuracy: 0.87\n",
      "Test Accuracy : 0.91\n",
      "------------------------------\n",
      "Combination53\n",
      "colsample_bytree:0.3,learning_rate:0.01,max_depth :8,alpha:10,n_estimators :10\n",
      "Train_Accuracy: 0.84\n",
      "Test Accuracy : 0.88\n",
      "------------------------------\n",
      "Combination54\n",
      "colsample_bytree:0.3,learning_rate:0.01,max_depth :8,alpha:10,n_estimators :50\n",
      "Train_Accuracy: 0.87\n",
      "Test Accuracy : 0.90\n",
      "------------------------------\n",
      "Combination55\n",
      "colsample_bytree:0.3,learning_rate:0.1,max_depth :3,alpha:1,n_estimators :10\n",
      "Train_Accuracy: 0.87\n",
      "Test Accuracy : 0.92\n",
      "------------------------------\n",
      "Combination56\n",
      "colsample_bytree:0.3,learning_rate:0.1,max_depth :3,alpha:1,n_estimators :50\n",
      "Train_Accuracy: 0.89\n",
      "Test Accuracy : 0.88\n",
      "------------------------------\n",
      "Combination57\n",
      "colsample_bytree:0.3,learning_rate:0.1,max_depth :3,alpha:5,n_estimators :10\n",
      "Train_Accuracy: 0.87\n",
      "Test Accuracy : 0.91\n",
      "------------------------------\n",
      "Combination58\n",
      "colsample_bytree:0.3,learning_rate:0.1,max_depth :3,alpha:5,n_estimators :50\n",
      "Train_Accuracy: 0.88\n",
      "Test Accuracy : 0.90\n",
      "------------------------------\n",
      "Combination59\n",
      "colsample_bytree:0.3,learning_rate:0.1,max_depth :3,alpha:10,n_estimators :10\n",
      "Train_Accuracy: 0.85\n",
      "Test Accuracy : 0.88\n",
      "------------------------------\n",
      "Combination60\n",
      "colsample_bytree:0.3,learning_rate:0.1,max_depth :3,alpha:10,n_estimators :50\n",
      "Train_Accuracy: 0.87\n",
      "Test Accuracy : 0.90\n",
      "------------------------------\n",
      "Combination61\n",
      "colsample_bytree:0.3,learning_rate:0.1,max_depth :5,alpha:1,n_estimators :10\n",
      "Train_Accuracy: 0.88\n",
      "Test Accuracy : 0.91\n",
      "------------------------------\n",
      "Combination62\n",
      "colsample_bytree:0.3,learning_rate:0.1,max_depth :5,alpha:1,n_estimators :50\n",
      "Train_Accuracy: 0.91\n",
      "Test Accuracy : 0.88\n",
      "------------------------------\n",
      "Combination63\n",
      "colsample_bytree:0.3,learning_rate:0.1,max_depth :5,alpha:5,n_estimators :10\n",
      "Train_Accuracy: 0.87\n",
      "Test Accuracy : 0.91\n",
      "------------------------------\n",
      "Combination64\n",
      "colsample_bytree:0.3,learning_rate:0.1,max_depth :5,alpha:5,n_estimators :50\n",
      "Train_Accuracy: 0.88\n",
      "Test Accuracy : 0.90\n",
      "------------------------------\n",
      "Combination65\n",
      "colsample_bytree:0.3,learning_rate:0.1,max_depth :5,alpha:10,n_estimators :10\n",
      "Train_Accuracy: 0.85\n",
      "Test Accuracy : 0.88\n",
      "------------------------------\n",
      "Combination66\n",
      "colsample_bytree:0.3,learning_rate:0.1,max_depth :5,alpha:10,n_estimators :50\n",
      "Train_Accuracy: 0.87\n",
      "Test Accuracy : 0.90\n",
      "------------------------------\n",
      "Combination67\n",
      "colsample_bytree:0.3,learning_rate:0.1,max_depth :8,alpha:1,n_estimators :10\n",
      "Train_Accuracy: 0.88\n",
      "Test Accuracy : 0.91\n",
      "------------------------------\n",
      "Combination68\n",
      "colsample_bytree:0.3,learning_rate:0.1,max_depth :8,alpha:1,n_estimators :50\n",
      "Train_Accuracy: 0.92\n",
      "Test Accuracy : 0.87\n",
      "------------------------------\n",
      "Combination69\n",
      "colsample_bytree:0.3,learning_rate:0.1,max_depth :8,alpha:5,n_estimators :10\n",
      "Train_Accuracy: 0.87\n",
      "Test Accuracy : 0.91\n",
      "------------------------------\n",
      "Combination70\n",
      "colsample_bytree:0.3,learning_rate:0.1,max_depth :8,alpha:5,n_estimators :50\n",
      "Train_Accuracy: 0.88\n",
      "Test Accuracy : 0.90\n",
      "------------------------------\n",
      "Combination71\n",
      "colsample_bytree:0.3,learning_rate:0.1,max_depth :8,alpha:10,n_estimators :10\n",
      "Train_Accuracy: 0.85\n",
      "Test Accuracy : 0.88\n",
      "------------------------------\n",
      "Combination72\n",
      "colsample_bytree:0.3,learning_rate:0.1,max_depth :8,alpha:10,n_estimators :50\n",
      "Train_Accuracy: 0.87\n",
      "Test Accuracy : 0.90\n",
      "------------------------------\n",
      "Combination73\n",
      "colsample_bytree:0.5,learning_rate:0.01,max_depth :3,alpha:1,n_estimators :10\n",
      "Train_Accuracy: 0.88\n",
      "Test Accuracy : 0.87\n",
      "------------------------------\n",
      "Combination74\n",
      "colsample_bytree:0.5,learning_rate:0.01,max_depth :3,alpha:1,n_estimators :50\n",
      "Train_Accuracy: 0.88\n",
      "Test Accuracy : 0.90\n",
      "------------------------------\n",
      "Combination75\n",
      "colsample_bytree:0.5,learning_rate:0.01,max_depth :3,alpha:5,n_estimators :10\n",
      "Train_Accuracy: 0.87\n",
      "Test Accuracy : 0.87\n",
      "------------------------------\n",
      "Combination76\n",
      "colsample_bytree:0.5,learning_rate:0.01,max_depth :3,alpha:5,n_estimators :50\n",
      "Train_Accuracy: 0.88\n",
      "Test Accuracy : 0.90\n",
      "------------------------------\n",
      "Combination77\n",
      "colsample_bytree:0.5,learning_rate:0.01,max_depth :3,alpha:10,n_estimators :10\n",
      "Train_Accuracy: 0.87\n",
      "Test Accuracy : 0.89\n",
      "------------------------------\n",
      "Combination78\n",
      "colsample_bytree:0.5,learning_rate:0.01,max_depth :3,alpha:10,n_estimators :50\n",
      "Train_Accuracy: 0.87\n",
      "Test Accuracy : 0.91\n",
      "------------------------------\n",
      "Combination79\n",
      "colsample_bytree:0.5,learning_rate:0.01,max_depth :5,alpha:1,n_estimators :10\n",
      "Train_Accuracy: 0.89\n",
      "Test Accuracy : 0.88\n",
      "------------------------------\n",
      "Combination80\n",
      "colsample_bytree:0.5,learning_rate:0.01,max_depth :5,alpha:1,n_estimators :50\n",
      "Train_Accuracy: 0.89\n",
      "Test Accuracy : 0.90\n",
      "------------------------------\n",
      "Combination81\n",
      "colsample_bytree:0.5,learning_rate:0.01,max_depth :5,alpha:5,n_estimators :10\n",
      "Train_Accuracy: 0.88\n",
      "Test Accuracy : 0.86\n",
      "------------------------------\n",
      "Combination82\n",
      "colsample_bytree:0.5,learning_rate:0.01,max_depth :5,alpha:5,n_estimators :50\n",
      "Train_Accuracy: 0.88\n",
      "Test Accuracy : 0.91\n",
      "------------------------------\n",
      "Combination83\n",
      "colsample_bytree:0.5,learning_rate:0.01,max_depth :5,alpha:10,n_estimators :10\n",
      "Train_Accuracy: 0.87\n",
      "Test Accuracy : 0.90\n",
      "------------------------------\n",
      "Combination84\n",
      "colsample_bytree:0.5,learning_rate:0.01,max_depth :5,alpha:10,n_estimators :50\n",
      "Train_Accuracy: 0.87\n",
      "Test Accuracy : 0.91\n",
      "------------------------------\n",
      "Combination85\n",
      "colsample_bytree:0.5,learning_rate:0.01,max_depth :8,alpha:1,n_estimators :10\n",
      "Train_Accuracy: 0.89\n",
      "Test Accuracy : 0.88\n",
      "------------------------------\n",
      "Combination86\n",
      "colsample_bytree:0.5,learning_rate:0.01,max_depth :8,alpha:1,n_estimators :50\n",
      "Train_Accuracy: 0.90\n",
      "Test Accuracy : 0.91\n",
      "------------------------------\n",
      "Combination87\n",
      "colsample_bytree:0.5,learning_rate:0.01,max_depth :8,alpha:5,n_estimators :10\n",
      "Train_Accuracy: 0.88\n",
      "Test Accuracy : 0.86\n",
      "------------------------------\n",
      "Combination88\n",
      "colsample_bytree:0.5,learning_rate:0.01,max_depth :8,alpha:5,n_estimators :50\n",
      "Train_Accuracy: 0.88\n",
      "Test Accuracy : 0.91\n",
      "------------------------------\n",
      "Combination89\n",
      "colsample_bytree:0.5,learning_rate:0.01,max_depth :8,alpha:10,n_estimators :10\n",
      "Train_Accuracy: 0.87\n",
      "Test Accuracy : 0.90\n",
      "------------------------------\n",
      "Combination90\n",
      "colsample_bytree:0.5,learning_rate:0.01,max_depth :8,alpha:10,n_estimators :50\n",
      "Train_Accuracy: 0.87\n",
      "Test Accuracy : 0.91\n",
      "------------------------------\n",
      "Combination91\n",
      "colsample_bytree:0.5,learning_rate:0.1,max_depth :3,alpha:1,n_estimators :10\n",
      "Train_Accuracy: 0.89\n",
      "Test Accuracy : 0.88\n",
      "------------------------------\n",
      "Combination92\n",
      "colsample_bytree:0.5,learning_rate:0.1,max_depth :3,alpha:1,n_estimators :50\n",
      "Train_Accuracy: 0.90\n",
      "Test Accuracy : 0.86\n",
      "------------------------------\n",
      "Combination93\n",
      "colsample_bytree:0.5,learning_rate:0.1,max_depth :3,alpha:5,n_estimators :10\n",
      "Train_Accuracy: 0.87\n",
      "Test Accuracy : 0.90\n",
      "------------------------------\n",
      "Combination94\n",
      "colsample_bytree:0.5,learning_rate:0.1,max_depth :3,alpha:5,n_estimators :50\n",
      "Train_Accuracy: 0.88\n",
      "Test Accuracy : 0.89\n",
      "------------------------------\n",
      "Combination95\n",
      "colsample_bytree:0.5,learning_rate:0.1,max_depth :3,alpha:10,n_estimators :10\n",
      "Train_Accuracy: 0.87\n",
      "Test Accuracy : 0.90\n",
      "------------------------------\n",
      "Combination96\n",
      "colsample_bytree:0.5,learning_rate:0.1,max_depth :3,alpha:10,n_estimators :50\n",
      "Train_Accuracy: 0.87\n",
      "Test Accuracy : 0.90\n",
      "------------------------------\n",
      "Combination97\n",
      "colsample_bytree:0.5,learning_rate:0.1,max_depth :5,alpha:1,n_estimators :10\n",
      "Train_Accuracy: 0.89\n",
      "Test Accuracy : 0.88\n",
      "------------------------------\n",
      "Combination98\n",
      "colsample_bytree:0.5,learning_rate:0.1,max_depth :5,alpha:1,n_estimators :50\n",
      "Train_Accuracy: 0.92\n",
      "Test Accuracy : 0.85\n",
      "------------------------------\n",
      "Combination99\n",
      "colsample_bytree:0.5,learning_rate:0.1,max_depth :5,alpha:5,n_estimators :10\n",
      "Train_Accuracy: 0.88\n",
      "Test Accuracy : 0.90\n",
      "------------------------------\n",
      "Combination100\n",
      "colsample_bytree:0.5,learning_rate:0.1,max_depth :5,alpha:5,n_estimators :50\n",
      "Train_Accuracy: 0.89\n",
      "Test Accuracy : 0.90\n",
      "------------------------------\n",
      "Combination101\n",
      "colsample_bytree:0.5,learning_rate:0.1,max_depth :5,alpha:10,n_estimators :10\n",
      "Train_Accuracy: 0.87\n",
      "Test Accuracy : 0.91\n",
      "------------------------------\n",
      "Combination102\n",
      "colsample_bytree:0.5,learning_rate:0.1,max_depth :5,alpha:10,n_estimators :50\n",
      "Train_Accuracy: 0.87\n",
      "Test Accuracy : 0.90\n",
      "------------------------------\n",
      "Combination103\n",
      "colsample_bytree:0.5,learning_rate:0.1,max_depth :8,alpha:1,n_estimators :10\n",
      "Train_Accuracy: 0.90\n",
      "Test Accuracy : 0.87\n",
      "------------------------------\n",
      "Combination104\n",
      "colsample_bytree:0.5,learning_rate:0.1,max_depth :8,alpha:1,n_estimators :50\n",
      "Train_Accuracy: 0.94\n",
      "Test Accuracy : 0.86\n",
      "------------------------------\n",
      "Combination105\n",
      "colsample_bytree:0.5,learning_rate:0.1,max_depth :8,alpha:5,n_estimators :10\n",
      "Train_Accuracy: 0.88\n",
      "Test Accuracy : 0.90\n",
      "------------------------------\n",
      "Combination106\n",
      "colsample_bytree:0.5,learning_rate:0.1,max_depth :8,alpha:5,n_estimators :50\n",
      "Train_Accuracy: 0.90\n",
      "Test Accuracy : 0.90\n",
      "------------------------------\n",
      "Combination107\n",
      "colsample_bytree:0.5,learning_rate:0.1,max_depth :8,alpha:10,n_estimators :10\n",
      "Train_Accuracy: 0.87\n",
      "Test Accuracy : 0.91\n",
      "------------------------------\n",
      "Combination108\n",
      "colsample_bytree:0.5,learning_rate:0.1,max_depth :8,alpha:10,n_estimators :50\n",
      "Train_Accuracy: 0.87\n",
      "Test Accuracy : 0.90\n",
      "------------------------------\n"
     ]
    }
   ],
   "source": [
    "for colsample_bytree in param_grid['colsample_bytree']:\n",
    "    for learning_rate in param_grid['learning_rate']:\n",
    "        for max_depth in param_grid['max_depth']:\n",
    "            for alpha in param_grid['alpha']:\n",
    "                for n_estimators in param_grid['n_estimators']:\n",
    "                    index=index+1\n",
    "                    model=xgb.XGBClassifier(objective='multi:softmax',\n",
    "                                           num_class=4,\n",
    "                                           colsample_bytree=colsample_bytree,\n",
    "                                           learning_rate=learning_rate,\n",
    "                                           max_depth=max_depth,\n",
    "                                           alpha=alpha,\n",
    "                                           n_estimators=n_estimators)\n",
    "                    y=df_encoded['HeartDisease']\n",
    "                    x=df_encoded.drop(['HeartDisease'],axis=1)\n",
    "\n",
    "                    label_encoder=LabelEncoder()\n",
    "                    y_encoded=label_encoder.fit_transform(y)\n",
    "\n",
    "                    x_train,x_test,y_train,y_test=train_test_split(x,y_encoded,test_size=0.2,random_state=45)\n",
    "\n",
    "                    model.fit(x_train,y_train)\n",
    "\n",
    "                    ##Predicting on train and test sets\n",
    "                    y_pred_train=model.predict(x_train)\n",
    "                    y_pred_test=model.predict(x_test)\n",
    "\n",
    "                    ## Calculate train and test results\n",
    "                    train_accuracy=accuracy_score(y_train,y_pred_train)\n",
    "                    test_accuracy=accuracy_score(y_test,y_pred_test)\n",
    "                    answer_grid['combination'].append(index)\n",
    "                    answer_grid['train_Accuracy'].append(train_accuracy)\n",
    "                    answer_grid['test_Accuracy'].append(test_accuracy)\n",
    "                    answer_grid['colsample_bytree'].append(colsample_bytree)\n",
    "                    answer_grid['learning_rate'].append(max_depth)\n",
    "                    answer_grid['max_depth'].append(alpha)\n",
    "                    answer_grid['alpha'].append(alpha)\n",
    "                    answer_grid['n_estimators'].append(n_estimators)\n",
    "\n",
    "                    #Print results for this combination\n",
    "                    print(f\"Combination{index}\")\n",
    "                    print(f\"colsample_bytree:{colsample_bytree},learning_rate:{learning_rate},max_depth :{max_depth},alpha:{alpha},n_estimators :{n_estimators}\")\n",
    "                    print(f\"Train_Accuracy:{train_accuracy: .2f}\")\n",
    "                    print(f\"Test Accuracy :{test_accuracy : .2f}\")\n",
    "                    print(\"-\"*30)"
   ]
  },
  {
   "cell_type": "markdown",
   "id": "e27ceaa3",
   "metadata": {
    "papermill": {
     "duration": 0.017163,
     "end_time": "2024-12-17T09:15:10.996729",
     "exception": false,
     "start_time": "2024-12-17T09:15:10.979566",
     "status": "completed"
    },
    "tags": []
   },
   "source": [
    "### conclusion: *** \n",
    "the parameter with parameter :-\n",
    "                 colsample_bytree:0.5,learning_rate:0.1,max_depth :8,alpha:5,n_estimators :50 (give best value) "
   ]
  },
  {
   "cell_type": "markdown",
   "id": "f1dc0fc3",
   "metadata": {
    "papermill": {
     "duration": 0.017229,
     "end_time": "2024-12-17T09:15:11.031518",
     "exception": false,
     "start_time": "2024-12-17T09:15:11.014289",
     "status": "completed"
    },
    "tags": []
   },
   "source": [
    "\n",
    "**Train_Accuracy: 0.90   Test Accuracy : 0.90**\n",
    "\n",
    "00"
   ]
  },
  {
   "cell_type": "code",
   "execution_count": null,
   "id": "b56932a6",
   "metadata": {
    "papermill": {
     "duration": 0.023762,
     "end_time": "2024-12-17T09:15:11.072795",
     "exception": false,
     "start_time": "2024-12-17T09:15:11.049033",
     "status": "completed"
    },
    "tags": []
   },
   "outputs": [],
   "source": []
  },
  {
   "cell_type": "markdown",
   "id": "266d7c68",
   "metadata": {
    "papermill": {
     "duration": 0.017385,
     "end_time": "2024-12-17T09:15:11.108086",
     "exception": false,
     "start_time": "2024-12-17T09:15:11.090701",
     "status": "completed"
    },
    "tags": []
   },
   "source": []
  }
 ],
 "metadata": {
  "kaggle": {
   "accelerator": "none",
   "dataSources": [
    {
     "datasetId": 1582403,
     "sourceId": 2603715,
     "sourceType": "datasetVersion"
    }
   ],
   "dockerImageVersionId": 30804,
   "isGpuEnabled": false,
   "isInternetEnabled": true,
   "language": "python",
   "sourceType": "notebook"
  },
  "kernelspec": {
   "display_name": "Python 3",
   "language": "python",
   "name": "python3"
  },
  "language_info": {
   "codemirror_mode": {
    "name": "ipython",
    "version": 3
   },
   "file_extension": ".py",
   "mimetype": "text/x-python",
   "name": "python",
   "nbconvert_exporter": "python",
   "pygments_lexer": "ipython3",
   "version": "3.10.14"
  },
  "papermill": {
   "default_parameters": {},
   "duration": 20.415234,
   "end_time": "2024-12-17T09:15:11.951120",
   "environment_variables": {},
   "exception": null,
   "input_path": "__notebook__.ipynb",
   "output_path": "__notebook__.ipynb",
   "parameters": {},
   "start_time": "2024-12-17T09:14:51.535886",
   "version": "2.6.0"
  }
 },
 "nbformat": 4,
 "nbformat_minor": 5
}
